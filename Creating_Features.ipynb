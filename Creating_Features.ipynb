{
 "cells": [
  {
   "cell_type": "markdown",
   "id": "7a4bb97c",
   "metadata": {
    "papermill": {
     "duration": 0.008467,
     "end_time": "2024-04-11T17:35:33.174627",
     "exception": false,
     "start_time": "2024-04-11T17:35:33.166160",
     "status": "completed"
    },
    "tags": []
   },
   "source": [
    "**This notebook is an exercise in the [Feature Engineering](https://www.kaggle.com/learn/feature-engineering) course.  You can reference the tutorial at [this link](https://www.kaggle.com/ryanholbrook/creating-features).**\n",
    "\n",
    "---\n"
   ]
  },
  {
   "cell_type": "markdown",
   "id": "6b12a562",
   "metadata": {
    "papermill": {
     "duration": 0.007731,
     "end_time": "2024-04-11T17:35:33.190738",
     "exception": false,
     "start_time": "2024-04-11T17:35:33.183007",
     "status": "completed"
    },
    "tags": []
   },
   "source": [
    "# Introduction #\n",
    "\n",
    "In this exercise you'll start developing the features you identified in Exercise 2 as having the most potential. As you work through this exercise, you might take a moment to look at the data documentation again and consider whether the features we're creating make sense from a real-world perspective, and whether there are any useful combinations that stand out to you.\n",
    "\n",
    "Run this cell to set everything up!"
   ]
  },
  {
   "cell_type": "code",
   "execution_count": 1,
   "id": "133f45b0",
   "metadata": {
    "execution": {
     "iopub.execute_input": "2024-04-11T17:35:33.208739Z",
     "iopub.status.busy": "2024-04-11T17:35:33.208303Z",
     "iopub.status.idle": "2024-04-11T17:35:36.335772Z",
     "shell.execute_reply": "2024-04-11T17:35:36.334721Z"
    },
    "papermill": {
     "duration": 3.139817,
     "end_time": "2024-04-11T17:35:36.338483",
     "exception": false,
     "start_time": "2024-04-11T17:35:33.198666",
     "status": "completed"
    },
    "tags": []
   },
   "outputs": [],
   "source": [
    "# Setup feedback system\n",
    "from learntools.core import binder\n",
    "binder.bind(globals())\n",
    "from learntools.feature_engineering_new.ex3 import *\n",
    "\n",
    "import numpy as np\n",
    "import pandas as pd\n",
    "from sklearn.model_selection import cross_val_score\n",
    "from xgboost import XGBRegressor\n",
    "\n",
    "\n",
    "def score_dataset(X, y, model=XGBRegressor()):\n",
    "    # Label encoding for categoricals\n",
    "    for colname in X.select_dtypes([\"category\", \"object\"]):\n",
    "        X[colname], _ = X[colname].factorize()\n",
    "    # Metric for Housing competition is RMSLE (Root Mean Squared Log Error)\n",
    "    score = cross_val_score(\n",
    "        model, X, y, cv=5, scoring=\"neg_mean_squared_log_error\",\n",
    "    )\n",
    "    score = -1 * score.mean()\n",
    "    score = np.sqrt(score)\n",
    "    return score\n",
    "\n",
    "\n",
    "# Prepare data\n",
    "df = pd.read_csv(\"../input/fe-course-data/ames.csv\")\n",
    "X = df.copy()\n",
    "y = X.pop(\"SalePrice\")"
   ]
  },
  {
   "cell_type": "code",
   "execution_count": 2,
   "id": "b3965e60",
   "metadata": {
    "execution": {
     "iopub.execute_input": "2024-04-11T17:35:36.356867Z",
     "iopub.status.busy": "2024-04-11T17:35:36.356439Z",
     "iopub.status.idle": "2024-04-11T17:35:36.403999Z",
     "shell.execute_reply": "2024-04-11T17:35:36.402486Z"
    },
    "papermill": {
     "duration": 0.06055,
     "end_time": "2024-04-11T17:35:36.407340",
     "exception": false,
     "start_time": "2024-04-11T17:35:36.346790",
     "status": "completed"
    },
    "tags": []
   },
   "outputs": [
    {
     "name": "stdout",
     "output_type": "stream",
     "text": [
      "<class 'pandas.core.frame.DataFrame'>\n",
      "RangeIndex: 2930 entries, 0 to 2929\n",
      "Data columns (total 79 columns):\n",
      " #   Column            Non-Null Count  Dtype  \n",
      "---  ------            --------------  -----  \n",
      " 0   MSSubClass        2930 non-null   object \n",
      " 1   MSZoning          2930 non-null   object \n",
      " 2   LotFrontage       2930 non-null   float64\n",
      " 3   LotArea           2930 non-null   float64\n",
      " 4   Street            2930 non-null   object \n",
      " 5   Alley             2930 non-null   object \n",
      " 6   LotShape          2930 non-null   object \n",
      " 7   LandContour       2930 non-null   object \n",
      " 8   Utilities         2930 non-null   object \n",
      " 9   LotConfig         2930 non-null   object \n",
      " 10  LandSlope         2930 non-null   object \n",
      " 11  Neighborhood      2930 non-null   object \n",
      " 12  Condition1        2930 non-null   object \n",
      " 13  Condition2        2930 non-null   object \n",
      " 14  BldgType          2930 non-null   object \n",
      " 15  HouseStyle        2930 non-null   object \n",
      " 16  OverallQual       2930 non-null   object \n",
      " 17  OverallCond       2930 non-null   object \n",
      " 18  YearBuilt         2930 non-null   int64  \n",
      " 19  YearRemodAdd      2930 non-null   int64  \n",
      " 20  RoofStyle         2930 non-null   object \n",
      " 21  RoofMatl          2930 non-null   object \n",
      " 22  Exterior1st       2930 non-null   object \n",
      " 23  Exterior2nd       2930 non-null   object \n",
      " 24  MasVnrType        1155 non-null   object \n",
      " 25  MasVnrArea        2930 non-null   float64\n",
      " 26  ExterQual         2930 non-null   object \n",
      " 27  ExterCond         2930 non-null   object \n",
      " 28  Foundation        2930 non-null   object \n",
      " 29  BsmtQual          2930 non-null   object \n",
      " 30  BsmtCond          2930 non-null   object \n",
      " 31  BsmtExposure      2930 non-null   object \n",
      " 32  BsmtFinType1      2930 non-null   object \n",
      " 33  BsmtFinSF1        2930 non-null   float64\n",
      " 34  BsmtFinType2      2930 non-null   object \n",
      " 35  BsmtFinSF2        2930 non-null   float64\n",
      " 36  BsmtUnfSF         2930 non-null   float64\n",
      " 37  TotalBsmtSF       2930 non-null   float64\n",
      " 38  Heating           2930 non-null   object \n",
      " 39  HeatingQC         2930 non-null   object \n",
      " 40  CentralAir        2930 non-null   object \n",
      " 41  Electrical        2930 non-null   object \n",
      " 42  FirstFlrSF        2930 non-null   float64\n",
      " 43  SecondFlrSF       2930 non-null   float64\n",
      " 44  LowQualFinSF      2930 non-null   float64\n",
      " 45  GrLivArea         2930 non-null   float64\n",
      " 46  BsmtFullBath      2930 non-null   int64  \n",
      " 47  BsmtHalfBath      2930 non-null   int64  \n",
      " 48  FullBath          2930 non-null   int64  \n",
      " 49  HalfBath          2930 non-null   int64  \n",
      " 50  BedroomAbvGr      2930 non-null   int64  \n",
      " 51  KitchenAbvGr      2930 non-null   int64  \n",
      " 52  KitchenQual       2930 non-null   object \n",
      " 53  TotRmsAbvGrd      2930 non-null   int64  \n",
      " 54  Functional        2930 non-null   object \n",
      " 55  Fireplaces        2930 non-null   int64  \n",
      " 56  FireplaceQu       2930 non-null   object \n",
      " 57  GarageType        2930 non-null   object \n",
      " 58  GarageFinish      2930 non-null   object \n",
      " 59  GarageCars        2930 non-null   int64  \n",
      " 60  GarageArea        2930 non-null   float64\n",
      " 61  GarageQual        2930 non-null   object \n",
      " 62  GarageCond        2930 non-null   object \n",
      " 63  PavedDrive        2930 non-null   object \n",
      " 64  WoodDeckSF        2930 non-null   float64\n",
      " 65  OpenPorchSF       2930 non-null   float64\n",
      " 66  EnclosedPorch     2930 non-null   float64\n",
      " 67  Threeseasonporch  2930 non-null   float64\n",
      " 68  ScreenPorch       2930 non-null   float64\n",
      " 69  PoolArea          2930 non-null   float64\n",
      " 70  PoolQC            2930 non-null   object \n",
      " 71  Fence             2930 non-null   object \n",
      " 72  MiscFeature       106 non-null    object \n",
      " 73  MiscVal           2930 non-null   float64\n",
      " 74  MoSold            2930 non-null   int64  \n",
      " 75  YearSold          2930 non-null   int64  \n",
      " 76  SaleType          2930 non-null   object \n",
      " 77  SaleCondition     2930 non-null   object \n",
      " 78  SalePrice         2930 non-null   int64  \n",
      "dtypes: float64(19), int64(14), object(46)\n",
      "memory usage: 1.8+ MB\n"
     ]
    }
   ],
   "source": [
    "df.info()"
   ]
  },
  {
   "cell_type": "markdown",
   "id": "b54e63a9",
   "metadata": {
    "papermill": {
     "duration": 0.008068,
     "end_time": "2024-04-11T17:35:36.424417",
     "exception": false,
     "start_time": "2024-04-11T17:35:36.416349",
     "status": "completed"
    },
    "tags": []
   },
   "source": [
    "-------------------------------------------------------------------------------\n",
    "\n",
    "Let's start with a few mathematical combinations. We'll focus on features describing areas -- having the same units (square-feet) makes it easy to combine them in sensible ways. Since we're using XGBoost (a tree-based model), we'll focus on ratios and sums.\n",
    "\n",
    "# 1) Create Mathematical Transforms\n",
    "\n",
    "Create the following features:\n",
    "\n",
    "- `LivLotRatio`: the ratio of `GrLivArea` to `LotArea`\n",
    "- `Spaciousness`: the sum of `FirstFlrSF` and `SecondFlrSF` divided by `TotRmsAbvGrd`\n",
    "- `TotalOutsideSF`: the sum of `WoodDeckSF`, `OpenPorchSF`, `EnclosedPorch`, `Threeseasonporch`, and `ScreenPorch`"
   ]
  },
  {
   "cell_type": "code",
   "execution_count": 3,
   "id": "f9198bab",
   "metadata": {
    "execution": {
     "iopub.execute_input": "2024-04-11T17:35:36.443026Z",
     "iopub.status.busy": "2024-04-11T17:35:36.442193Z",
     "iopub.status.idle": "2024-04-11T17:35:36.464023Z",
     "shell.execute_reply": "2024-04-11T17:35:36.462748Z"
    },
    "lines_to_next_cell": 0,
    "papermill": {
     "duration": 0.034085,
     "end_time": "2024-04-11T17:35:36.466850",
     "exception": false,
     "start_time": "2024-04-11T17:35:36.432765",
     "status": "completed"
    },
    "tags": []
   },
   "outputs": [
    {
     "data": {
      "application/javascript": [
       "parent.postMessage({\"jupyterEvent\": \"custom.exercise_interaction\", \"data\": {\"outcomeType\": 1, \"valueTowardsCompletion\": 0.2, \"interactionType\": 1, \"questionType\": 2, \"questionId\": \"1_Q1\", \"learnToolsVersion\": \"0.3.4\", \"failureMessage\": \"\", \"exceptionClass\": \"\", \"trace\": \"\"}}, \"*\")"
      ],
      "text/plain": [
       "<IPython.core.display.Javascript object>"
      ]
     },
     "metadata": {},
     "output_type": "display_data"
    },
    {
     "data": {
      "text/markdown": [
       "<span style=\"color:#33cc33\">Correct</span>"
      ],
      "text/plain": [
       "Correct"
      ]
     },
     "metadata": {},
     "output_type": "display_data"
    }
   ],
   "source": [
    "# YOUR CODE HERE\n",
    "X_1 = pd.DataFrame()  # dataframe to hold new features\n",
    "\n",
    "X_1[\"LivLotRatio\"] = df.GrLivArea/df.LotArea\n",
    "X_1[\"Spaciousness\"] = (df.FirstFlrSF + df.SecondFlrSF)/df.TotRmsAbvGrd\n",
    "X_1[\"TotalOutsideSF\"] = df.WoodDeckSF+df.OpenPorchSF+df.EnclosedPorch+df.Threeseasonporch+df.ScreenPorch\n",
    "\n",
    "\n",
    "# Check your answer\n",
    "q_1.check()"
   ]
  },
  {
   "cell_type": "code",
   "execution_count": 4,
   "id": "93f9a59c",
   "metadata": {
    "execution": {
     "iopub.execute_input": "2024-04-11T17:35:36.486236Z",
     "iopub.status.busy": "2024-04-11T17:35:36.485864Z",
     "iopub.status.idle": "2024-04-11T17:35:36.494369Z",
     "shell.execute_reply": "2024-04-11T17:35:36.493247Z"
    },
    "papermill": {
     "duration": 0.021414,
     "end_time": "2024-04-11T17:35:36.496900",
     "exception": false,
     "start_time": "2024-04-11T17:35:36.475486",
     "status": "completed"
    },
    "tags": []
   },
   "outputs": [
    {
     "data": {
      "text/plain": [
       "array(['OneFam', 'TwnhsE', 'Twnhs', 'Duplex', 'TwoFmCon'], dtype=object)"
      ]
     },
     "execution_count": 4,
     "metadata": {},
     "output_type": "execute_result"
    }
   ],
   "source": [
    "df['BldgType'].unique()"
   ]
  },
  {
   "cell_type": "code",
   "execution_count": 5,
   "id": "18c5da6c",
   "metadata": {
    "execution": {
     "iopub.execute_input": "2024-04-11T17:35:36.516070Z",
     "iopub.status.busy": "2024-04-11T17:35:36.515640Z",
     "iopub.status.idle": "2024-04-11T17:35:36.520942Z",
     "shell.execute_reply": "2024-04-11T17:35:36.519645Z"
    },
    "lines_to_next_cell": 0,
    "papermill": {
     "duration": 0.017703,
     "end_time": "2024-04-11T17:35:36.523429",
     "exception": false,
     "start_time": "2024-04-11T17:35:36.505726",
     "status": "completed"
    },
    "tags": []
   },
   "outputs": [],
   "source": [
    "# Lines below will give you a hint or solution code\n",
    "#q_1.hint()\n",
    "#q_1.solution()"
   ]
  },
  {
   "cell_type": "markdown",
   "id": "e6a4ac33",
   "metadata": {
    "papermill": {
     "duration": 0.0084,
     "end_time": "2024-04-11T17:35:36.540748",
     "exception": false,
     "start_time": "2024-04-11T17:35:36.532348",
     "status": "completed"
    },
    "tags": []
   },
   "source": [
    "-------------------------------------------------------------------------------\n",
    "\n",
    "If you've discovered an interaction effect between a numeric feature and a categorical feature, you might want to model it explicitly using a one-hot encoding, like so:\n",
    "\n",
    "```\n",
    "# One-hot encode Categorical feature, adding a column prefix \"Cat\"\n",
    "X_new = pd.get_dummies(df.Categorical, prefix=\"Cat\")\n",
    "\n",
    "# Multiply row-by-row\n",
    "X_new = X_new.mul(df.Continuous, axis=0)\n",
    "\n",
    "# Join the new features to the feature set\n",
    "X = X.join(X_new)\n",
    "```\n",
    "\n",
    "# 2) Interaction with a Categorical\n",
    "\n",
    "We discovered an interaction between `BldgType` and `GrLivArea` in Exercise 2. Now create their interaction features."
   ]
  },
  {
   "cell_type": "code",
   "execution_count": 6,
   "id": "e9762c8a",
   "metadata": {
    "execution": {
     "iopub.execute_input": "2024-04-11T17:35:36.560974Z",
     "iopub.status.busy": "2024-04-11T17:35:36.560583Z",
     "iopub.status.idle": "2024-04-11T17:35:36.576909Z",
     "shell.execute_reply": "2024-04-11T17:35:36.575979Z"
    },
    "lines_to_next_cell": 0,
    "papermill": {
     "duration": 0.029461,
     "end_time": "2024-04-11T17:35:36.578941",
     "exception": false,
     "start_time": "2024-04-11T17:35:36.549480",
     "status": "completed"
    },
    "tags": []
   },
   "outputs": [
    {
     "data": {
      "application/javascript": [
       "parent.postMessage({\"jupyterEvent\": \"custom.exercise_interaction\", \"data\": {\"outcomeType\": 1, \"valueTowardsCompletion\": 0.2, \"interactionType\": 1, \"questionType\": 2, \"questionId\": \"2_Q2\", \"learnToolsVersion\": \"0.3.4\", \"failureMessage\": \"\", \"exceptionClass\": \"\", \"trace\": \"\"}}, \"*\")"
      ],
      "text/plain": [
       "<IPython.core.display.Javascript object>"
      ]
     },
     "metadata": {},
     "output_type": "display_data"
    },
    {
     "data": {
      "text/markdown": [
       "<span style=\"color:#33cc33\">Correct</span>"
      ],
      "text/plain": [
       "Correct"
      ]
     },
     "metadata": {},
     "output_type": "display_data"
    }
   ],
   "source": [
    "# YOUR CODE HERE\n",
    "# One-hot encode BldgType. Use `prefix=\"Bldg\"` in `get_dummies`\n",
    "X_2 = pd.get_dummies(X.BldgType, prefix=\"Bldg\") \n",
    "# Multiply\n",
    "X_2 = X_2.mul(X.GrLivArea, axis=0)\n",
    "\n",
    "# X = X.join(X_2)\n",
    "# Check your answer\n",
    "q_2.check()"
   ]
  },
  {
   "cell_type": "code",
   "execution_count": 7,
   "id": "83411318",
   "metadata": {
    "execution": {
     "iopub.execute_input": "2024-04-11T17:35:36.599116Z",
     "iopub.status.busy": "2024-04-11T17:35:36.598722Z",
     "iopub.status.idle": "2024-04-11T17:35:36.607664Z",
     "shell.execute_reply": "2024-04-11T17:35:36.606501Z"
    },
    "lines_to_next_cell": 0,
    "papermill": {
     "duration": 0.022031,
     "end_time": "2024-04-11T17:35:36.610194",
     "exception": false,
     "start_time": "2024-04-11T17:35:36.588163",
     "status": "completed"
    },
    "tags": []
   },
   "outputs": [
    {
     "data": {
      "application/javascript": [
       "parent.postMessage({\"jupyterEvent\": \"custom.exercise_interaction\", \"data\": {\"interactionType\": 3, \"questionType\": 2, \"questionId\": \"2_Q2\", \"learnToolsVersion\": \"0.3.4\", \"valueTowardsCompletion\": 0.0, \"failureMessage\": \"\", \"exceptionClass\": \"\", \"trace\": \"\", \"outcomeType\": 4}}, \"*\")"
      ],
      "text/plain": [
       "<IPython.core.display.Javascript object>"
      ]
     },
     "metadata": {},
     "output_type": "display_data"
    },
    {
     "data": {
      "text/markdown": [
       "<span style=\"color:#33cc99\">Solution:</span> \n",
       "```python\n",
       "\n",
       "X_2 = pd.get_dummies(df.BldgType, prefix=\"Bldg\")\n",
       "X_2 = X_2.mul(df.GrLivArea, axis=0)\n",
       "\n",
       "```"
      ],
      "text/plain": [
       "Solution: \n",
       "```python\n",
       "\n",
       "X_2 = pd.get_dummies(df.BldgType, prefix=\"Bldg\")\n",
       "X_2 = X_2.mul(df.GrLivArea, axis=0)\n",
       "\n",
       "```"
      ]
     },
     "metadata": {},
     "output_type": "display_data"
    }
   ],
   "source": [
    "# Lines below will give you a hint or solution code\n",
    "#q_2.hint()\n",
    "q_2.solution()"
   ]
  },
  {
   "cell_type": "markdown",
   "id": "34966099",
   "metadata": {
    "lines_to_next_cell": 0,
    "papermill": {
     "duration": 0.00931,
     "end_time": "2024-04-11T17:35:36.629257",
     "exception": false,
     "start_time": "2024-04-11T17:35:36.619947",
     "status": "completed"
    },
    "tags": []
   },
   "source": [
    "# 3) Count Feature\n",
    "\n",
    "Let's try creating a feature that describes how many kinds of outdoor areas a dwelling has. Create a feature `PorchTypes` that counts how many of the following are greater than 0.0:\n",
    "\n",
    "```\n",
    "WoodDeckSF\n",
    "OpenPorchSF\n",
    "EnclosedPorch\n",
    "Threeseasonporch\n",
    "ScreenPorch\n",
    "```"
   ]
  },
  {
   "cell_type": "code",
   "execution_count": 8,
   "id": "83015414",
   "metadata": {
    "execution": {
     "iopub.execute_input": "2024-04-11T17:35:36.649817Z",
     "iopub.status.busy": "2024-04-11T17:35:36.649386Z",
     "iopub.status.idle": "2024-04-11T17:35:36.668358Z",
     "shell.execute_reply": "2024-04-11T17:35:36.667440Z"
    },
    "lines_to_next_cell": 0,
    "papermill": {
     "duration": 0.032377,
     "end_time": "2024-04-11T17:35:36.670979",
     "exception": false,
     "start_time": "2024-04-11T17:35:36.638602",
     "status": "completed"
    },
    "tags": []
   },
   "outputs": [
    {
     "data": {
      "application/javascript": [
       "parent.postMessage({\"jupyterEvent\": \"custom.exercise_interaction\", \"data\": {\"outcomeType\": 1, \"valueTowardsCompletion\": 0.2, \"interactionType\": 1, \"questionType\": 2, \"questionId\": \"3_Q3\", \"learnToolsVersion\": \"0.3.4\", \"failureMessage\": \"\", \"exceptionClass\": \"\", \"trace\": \"\"}}, \"*\")"
      ],
      "text/plain": [
       "<IPython.core.display.Javascript object>"
      ]
     },
     "metadata": {},
     "output_type": "display_data"
    },
    {
     "data": {
      "text/markdown": [
       "<span style=\"color:#33cc33\">Correct</span>"
      ],
      "text/plain": [
       "Correct"
      ]
     },
     "metadata": {},
     "output_type": "display_data"
    }
   ],
   "source": [
    "X_3 = pd.DataFrame()\n",
    "\n",
    "# YOUR CODE HERE\n",
    "cols = ['WoodDeckSF','OpenPorchSF','EnclosedPorch','Threeseasonporch','ScreenPorch']\n",
    "\n",
    "X_3[\"PorchTypes\"] = df[cols].gt(0.0).sum(axis = 1)\n",
    "\n",
    "# Check your answer\n",
    "q_3.check()"
   ]
  },
  {
   "cell_type": "code",
   "execution_count": 9,
   "id": "ae37dbad",
   "metadata": {
    "execution": {
     "iopub.execute_input": "2024-04-11T17:35:36.692213Z",
     "iopub.status.busy": "2024-04-11T17:35:36.691776Z",
     "iopub.status.idle": "2024-04-11T17:35:36.699528Z",
     "shell.execute_reply": "2024-04-11T17:35:36.698748Z"
    },
    "lines_to_next_cell": 0,
    "papermill": {
     "duration": 0.020884,
     "end_time": "2024-04-11T17:35:36.701610",
     "exception": false,
     "start_time": "2024-04-11T17:35:36.680726",
     "status": "completed"
    },
    "tags": []
   },
   "outputs": [
    {
     "data": {
      "application/javascript": [
       "parent.postMessage({\"jupyterEvent\": \"custom.exercise_interaction\", \"data\": {\"interactionType\": 3, \"questionType\": 2, \"questionId\": \"3_Q3\", \"learnToolsVersion\": \"0.3.4\", \"valueTowardsCompletion\": 0.0, \"failureMessage\": \"\", \"exceptionClass\": \"\", \"trace\": \"\", \"outcomeType\": 4}}, \"*\")"
      ],
      "text/plain": [
       "<IPython.core.display.Javascript object>"
      ]
     },
     "metadata": {},
     "output_type": "display_data"
    },
    {
     "data": {
      "text/markdown": [
       "<span style=\"color:#33cc99\">Solution:</span> \n",
       "```python\n",
       "\n",
       "X_3 = pd.DataFrame()\n",
       "\n",
       "X_3[\"PorchTypes\"] = df[[\n",
       "    \"WoodDeckSF\",\n",
       "    \"OpenPorchSF\",\n",
       "    \"EnclosedPorch\",\n",
       "    \"Threeseasonporch\",\n",
       "    \"ScreenPorch\",\n",
       "]].gt(0.0).sum(axis=1)\n",
       "\n",
       "```"
      ],
      "text/plain": [
       "Solution: \n",
       "```python\n",
       "\n",
       "X_3 = pd.DataFrame()\n",
       "\n",
       "X_3[\"PorchTypes\"] = df[[\n",
       "    \"WoodDeckSF\",\n",
       "    \"OpenPorchSF\",\n",
       "    \"EnclosedPorch\",\n",
       "    \"Threeseasonporch\",\n",
       "    \"ScreenPorch\",\n",
       "]].gt(0.0).sum(axis=1)\n",
       "\n",
       "```"
      ]
     },
     "metadata": {},
     "output_type": "display_data"
    }
   ],
   "source": [
    "# Lines below will give you a hint or solution code\n",
    "#q_3.hint()\n",
    "q_3.solution()"
   ]
  },
  {
   "cell_type": "markdown",
   "id": "662c54c4",
   "metadata": {
    "papermill": {
     "duration": 0.009873,
     "end_time": "2024-04-11T17:35:36.721734",
     "exception": false,
     "start_time": "2024-04-11T17:35:36.711861",
     "status": "completed"
    },
    "tags": []
   },
   "source": [
    "# 4) Break Down a Categorical Feature\n",
    "\n",
    "`MSSubClass` describes the type of a dwelling:"
   ]
  },
  {
   "cell_type": "code",
   "execution_count": 10,
   "id": "f4a615c0",
   "metadata": {
    "execution": {
     "iopub.execute_input": "2024-04-11T17:35:36.745010Z",
     "iopub.status.busy": "2024-04-11T17:35:36.743787Z",
     "iopub.status.idle": "2024-04-11T17:35:36.751970Z",
     "shell.execute_reply": "2024-04-11T17:35:36.750850Z"
    },
    "papermill": {
     "duration": 0.022835,
     "end_time": "2024-04-11T17:35:36.754690",
     "exception": false,
     "start_time": "2024-04-11T17:35:36.731855",
     "status": "completed"
    },
    "tags": []
   },
   "outputs": [
    {
     "data": {
      "text/plain": [
       "array(['One_Story_1946_and_Newer_All_Styles', 'Two_Story_1946_and_Newer',\n",
       "       'One_Story_PUD_1946_and_Newer',\n",
       "       'One_and_Half_Story_Finished_All_Ages', 'Split_Foyer',\n",
       "       'Two_Story_PUD_1946_and_Newer', 'Split_or_Multilevel',\n",
       "       'One_Story_1945_and_Older', 'Duplex_All_Styles_and_Ages',\n",
       "       'Two_Family_conversion_All_Styles_and_Ages',\n",
       "       'One_and_Half_Story_Unfinished_All_Ages',\n",
       "       'Two_Story_1945_and_Older', 'Two_and_Half_Story_All_Ages',\n",
       "       'One_Story_with_Finished_Attic_All_Ages',\n",
       "       'PUD_Multilevel_Split_Level_Foyer',\n",
       "       'One_and_Half_Story_PUD_All_Ages'], dtype=object)"
      ]
     },
     "execution_count": 10,
     "metadata": {},
     "output_type": "execute_result"
    }
   ],
   "source": [
    "df.MSSubClass.unique()"
   ]
  },
  {
   "cell_type": "markdown",
   "id": "c6973e3b",
   "metadata": {
    "papermill": {
     "duration": 0.010111,
     "end_time": "2024-04-11T17:35:36.775062",
     "exception": false,
     "start_time": "2024-04-11T17:35:36.764951",
     "status": "completed"
    },
    "tags": []
   },
   "source": [
    "You can see that there is a more general categorization described (roughly) by the first word of each category. Create a feature containing only these first words by splitting `MSSubClass` at the first underscore `_`. (Hint: In the `split` method use an argument `n=1`.)"
   ]
  },
  {
   "cell_type": "code",
   "execution_count": 11,
   "id": "701463e0",
   "metadata": {
    "execution": {
     "iopub.execute_input": "2024-04-11T17:35:36.797886Z",
     "iopub.status.busy": "2024-04-11T17:35:36.797418Z",
     "iopub.status.idle": "2024-04-11T17:35:36.911240Z",
     "shell.execute_reply": "2024-04-11T17:35:36.909829Z"
    },
    "lines_to_next_cell": 0,
    "papermill": {
     "duration": 0.128512,
     "end_time": "2024-04-11T17:35:36.913939",
     "exception": false,
     "start_time": "2024-04-11T17:35:36.785427",
     "status": "completed"
    },
    "tags": []
   },
   "outputs": [
    {
     "data": {
      "application/javascript": [
       "parent.postMessage({\"jupyterEvent\": \"custom.exercise_interaction\", \"data\": {\"outcomeType\": 1, \"valueTowardsCompletion\": 0.2, \"interactionType\": 1, \"questionType\": 2, \"questionId\": \"4_Q4\", \"learnToolsVersion\": \"0.3.4\", \"failureMessage\": \"\", \"exceptionClass\": \"\", \"trace\": \"\"}}, \"*\")"
      ],
      "text/plain": [
       "<IPython.core.display.Javascript object>"
      ]
     },
     "metadata": {},
     "output_type": "display_data"
    },
    {
     "data": {
      "text/markdown": [
       "<span style=\"color:#33cc33\">Correct</span>"
      ],
      "text/plain": [
       "Correct"
      ]
     },
     "metadata": {},
     "output_type": "display_data"
    }
   ],
   "source": [
    "X_4 = pd.DataFrame()\n",
    "\n",
    "\n",
    "X_4[['MSClass','sample']]= df['MSSubClass'].str.split(\"_\",n = 1, expand=True)\n",
    "X_4.drop('sample', inplace = True, axis = 1)\n",
    "\n",
    "\n",
    "\n",
    "# Check your answer\n",
    "q_4.check()"
   ]
  },
  {
   "cell_type": "code",
   "execution_count": 12,
   "id": "4eee260a",
   "metadata": {
    "execution": {
     "iopub.execute_input": "2024-04-11T17:35:36.938671Z",
     "iopub.status.busy": "2024-04-11T17:35:36.937646Z",
     "iopub.status.idle": "2024-04-11T17:35:36.942649Z",
     "shell.execute_reply": "2024-04-11T17:35:36.941770Z"
    },
    "lines_to_next_cell": 0,
    "papermill": {
     "duration": 0.019746,
     "end_time": "2024-04-11T17:35:36.944801",
     "exception": false,
     "start_time": "2024-04-11T17:35:36.925055",
     "status": "completed"
    },
    "tags": []
   },
   "outputs": [],
   "source": [
    "# Lines below will give you a hint or solution code\n",
    "#q_4.hint()\n",
    "#q_4.solution()"
   ]
  },
  {
   "cell_type": "markdown",
   "id": "58a16e65",
   "metadata": {
    "papermill": {
     "duration": 0.01028,
     "end_time": "2024-04-11T17:35:36.966134",
     "exception": false,
     "start_time": "2024-04-11T17:35:36.955854",
     "status": "completed"
    },
    "tags": []
   },
   "source": [
    "# 5) Use a Grouped Transform\n",
    "\n",
    "The value of a home often depends on how it compares to typical homes in its neighborhood. Create a feature `MedNhbdArea` that describes the *median* of `GrLivArea` grouped on `Neighborhood`."
   ]
  },
  {
   "cell_type": "code",
   "execution_count": 13,
   "id": "275c2ce6",
   "metadata": {
    "execution": {
     "iopub.execute_input": "2024-04-11T17:35:36.988999Z",
     "iopub.status.busy": "2024-04-11T17:35:36.988617Z",
     "iopub.status.idle": "2024-04-11T17:35:37.009745Z",
     "shell.execute_reply": "2024-04-11T17:35:37.008737Z"
    },
    "lines_to_next_cell": 0,
    "papermill": {
     "duration": 0.035397,
     "end_time": "2024-04-11T17:35:37.012160",
     "exception": false,
     "start_time": "2024-04-11T17:35:36.976763",
     "status": "completed"
    },
    "tags": []
   },
   "outputs": [
    {
     "data": {
      "application/javascript": [
       "parent.postMessage({\"jupyterEvent\": \"custom.exercise_interaction\", \"data\": {\"outcomeType\": 1, \"valueTowardsCompletion\": 0.2, \"interactionType\": 1, \"questionType\": 2, \"questionId\": \"5_Q5\", \"learnToolsVersion\": \"0.3.4\", \"failureMessage\": \"\", \"exceptionClass\": \"\", \"trace\": \"\"}}, \"*\")"
      ],
      "text/plain": [
       "<IPython.core.display.Javascript object>"
      ]
     },
     "metadata": {},
     "output_type": "display_data"
    },
    {
     "data": {
      "text/markdown": [
       "<span style=\"color:#33cc33\">Correct</span>"
      ],
      "text/plain": [
       "Correct"
      ]
     },
     "metadata": {},
     "output_type": "display_data"
    }
   ],
   "source": [
    "X_5 = pd.DataFrame()\n",
    "\n",
    "# YOUR CODE HERE\n",
    "X_5[\"MedNhbdArea\"] = df.groupby('Neighborhood')['GrLivArea'].transform('median')\n",
    "\n",
    "# Check your answer\n",
    "q_5.check()"
   ]
  },
  {
   "cell_type": "code",
   "execution_count": 14,
   "id": "dbe7efb8",
   "metadata": {
    "execution": {
     "iopub.execute_input": "2024-04-11T17:35:37.036297Z",
     "iopub.status.busy": "2024-04-11T17:35:37.035918Z",
     "iopub.status.idle": "2024-04-11T17:35:37.040021Z",
     "shell.execute_reply": "2024-04-11T17:35:37.038771Z"
    },
    "lines_to_next_cell": 0,
    "papermill": {
     "duration": 0.019129,
     "end_time": "2024-04-11T17:35:37.042525",
     "exception": false,
     "start_time": "2024-04-11T17:35:37.023396",
     "status": "completed"
    },
    "tags": []
   },
   "outputs": [],
   "source": [
    "# Lines below will give you a hint or solution code\n",
    "#q_5.hint()\n",
    "#q_5.solution()"
   ]
  },
  {
   "cell_type": "markdown",
   "id": "e0a4568f",
   "metadata": {
    "papermill": {
     "duration": 0.011235,
     "end_time": "2024-04-11T17:35:37.065231",
     "exception": false,
     "start_time": "2024-04-11T17:35:37.053996",
     "status": "completed"
    },
    "tags": []
   },
   "source": [
    "Now you've made your first new feature set! If you like, you can run the cell below to score the model with all of your new features added:"
   ]
  },
  {
   "cell_type": "code",
   "execution_count": 15,
   "id": "7837a600",
   "metadata": {
    "execution": {
     "iopub.execute_input": "2024-04-11T17:35:37.089227Z",
     "iopub.status.busy": "2024-04-11T17:35:37.088795Z",
     "iopub.status.idle": "2024-04-11T17:35:40.143872Z",
     "shell.execute_reply": "2024-04-11T17:35:40.142785Z"
    },
    "papermill": {
     "duration": 3.070462,
     "end_time": "2024-04-11T17:35:40.146813",
     "exception": false,
     "start_time": "2024-04-11T17:35:37.076351",
     "status": "completed"
    },
    "tags": []
   },
   "outputs": [
    {
     "data": {
      "text/plain": [
       "0.13954039591355258"
      ]
     },
     "execution_count": 15,
     "metadata": {},
     "output_type": "execute_result"
    }
   ],
   "source": [
    "X_new = X.join([X_1, X_2, X_3, X_4, X_5])\n",
    "# X_new = pd.concat([X, X_1, X_2, X_3, X_4, X_5], ignore_index = True)\n",
    "score_dataset(X_new, y)"
   ]
  },
  {
   "cell_type": "markdown",
   "id": "213ae814",
   "metadata": {
    "papermill": {
     "duration": 0.010846,
     "end_time": "2024-04-11T17:35:40.170431",
     "exception": false,
     "start_time": "2024-04-11T17:35:40.159585",
     "status": "completed"
    },
    "tags": []
   },
   "source": [
    "# Keep Going #\n",
    "\n",
    "[**Untangle spatial relationships**](https://www.kaggle.com/ryanholbrook/clustering-with-k-means) by adding cluster labels to your dataset."
   ]
  },
  {
   "cell_type": "markdown",
   "id": "cd854883",
   "metadata": {
    "papermill": {
     "duration": 0.01104,
     "end_time": "2024-04-11T17:35:40.192767",
     "exception": false,
     "start_time": "2024-04-11T17:35:40.181727",
     "status": "completed"
    },
    "tags": []
   },
   "source": [
    "---\n",
    "\n",
    "\n",
    "\n",
    "\n",
    "*Have questions or comments? Visit the [course discussion forum](https://www.kaggle.com/learn/feature-engineering/discussion) to chat with other learners.*"
   ]
  }
 ],
 "metadata": {
  "jupytext": {
   "cell_metadata_filter": "-all",
   "formats": "ipynb"
  },
  "kaggle": {
   "accelerator": "none",
   "dataSources": [
    {
     "datasetId": 933090,
     "sourceId": 1828856,
     "sourceType": "datasetVersion"
    }
   ],
   "isGpuEnabled": false,
   "isInternetEnabled": false,
   "language": "python",
   "sourceType": "notebook"
  },
  "kernelspec": {
   "display_name": "Python 3",
   "language": "python",
   "name": "python3"
  },
  "language_info": {
   "codemirror_mode": {
    "name": "ipython",
    "version": 3
   },
   "file_extension": ".py",
   "mimetype": "text/x-python",
   "name": "python",
   "nbconvert_exporter": "python",
   "pygments_lexer": "ipython3",
   "version": "3.10.13"
  },
  "papermill": {
   "default_parameters": {},
   "duration": 10.946676,
   "end_time": "2024-04-11T17:35:40.825254",
   "environment_variables": {},
   "exception": null,
   "input_path": "__notebook__.ipynb",
   "output_path": "__notebook__.ipynb",
   "parameters": {},
   "start_time": "2024-04-11T17:35:29.878578",
   "version": "2.5.0"
  }
 },
 "nbformat": 4,
 "nbformat_minor": 5
}
