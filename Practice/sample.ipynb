{
 "cells": [
  {
   "cell_type": "code",
   "execution_count": 6,
   "metadata": {},
   "outputs": [
    {
     "name": "stdout",
     "output_type": "stream",
     "text": [
      "value is 100\n",
      "<__main__.A object at 0x0000023141855610>\n"
     ]
    }
   ],
   "source": [
    "class A:\n",
    "    def __init__(self, val = 0) -> None:\n",
    "        self.val = val\n",
    "    def __str__(self) -> str:\n",
    "        return f'value is {self.val}'\n",
    "    \n",
    "obj = A(100)\n",
    "print(obj)\n",
    "print(repr(obj))"
   ]
  },
  {
   "cell_type": "code",
   "execution_count": 11,
   "metadata": {},
   "outputs": [
    {
     "name": "stdout",
     "output_type": "stream",
     "text": [
      "<map object at 0x00000231429E21C0> <class 'map'>\n",
      "a_2022\n",
      "<filter object at 0x00000231417922E0>\n",
      "2\n"
     ]
    }
   ],
   "source": [
    "set_of_strings = 'abcde'\n",
    "string_map_22 = map(lambda my_string: my_string + '_2022', set_of_strings)\n",
    "print(string_map_22, type(string_map_22))\n",
    "x = iter(string_map_22)\n",
    "print(next(x))\n",
    "\n",
    "def even(num):\n",
    "    return num%2==0\n",
    "\n",
    "val = filter(even,[1,2,3,4,5])\n",
    "print(val)\n",
    "x = iter(val)\n",
    "print(next(x))"
   ]
  },
  {
   "cell_type": "code",
   "execution_count": 20,
   "metadata": {},
   "outputs": [
    {
     "name": "stdout",
     "output_type": "stream",
     "text": [
      "1\n",
      "<class 'tuple'>\n",
      "Gur Mra bs Clguba, ol Gvz Crgref\n",
      "\n",
      "Ornhgvshy vf orggre guna htyl.\n",
      "Rkcyvpvg vf orggre guna vzcyvpvg.\n",
      "Fvzcyr vf orggre guna pbzcyrk.\n",
      "Pbzcyrk vf orggre guna pbzcyvpngrq.\n",
      "Syng vf orggre guna arfgrq.\n",
      "Fcnefr vf orggre guna qrafr.\n",
      "Ernqnovyvgl pbhagf.\n",
      "Fcrpvny pnfrf nera'g fcrpvny rabhtu gb oernx gur ehyrf.\n",
      "Nygubhtu cenpgvpnyvgl orngf chevgl.\n",
      "Reebef fubhyq arire cnff fvyragyl.\n",
      "Hayrff rkcyvpvgyl fvyraprq.\n",
      "Va gur snpr bs nzovthvgl, ershfr gur grzcgngvba gb thrff.\n",
      "Gurer fubhyq or bar-- naq cersrenoyl bayl bar --boivbhf jnl gb qb vg.\n",
      "Nygubhtu gung jnl znl abg or boivbhf ng svefg hayrff lbh'er Qhgpu.\n",
      "Abj vf orggre guna arire.\n",
      "Nygubhtu arire vf bsgra orggre guna *evtug* abj.\n",
      "Vs gur vzcyrzragngvba vf uneq gb rkcynva, vg'f n onq vqrn.\n",
      "Vs gur vzcyrzragngvba vf rnfl gb rkcynva, vg znl or n tbbq vqrn.\n",
      "Anzrfcnprf ner bar ubaxvat terng vqrn -- yrg'f qb zber bs gubfr!\n"
     ]
    }
   ],
   "source": [
    "def val(*x):\n",
    "    print(x[0])\n",
    "    print(type(x))\n",
    "\n",
    "val(1,2,3,4)\n",
    "import this\n",
    "print(this.s)"
   ]
  },
  {
   "cell_type": "code",
   "execution_count": 48,
   "metadata": {},
   "outputs": [
    {
     "name": "stdout",
     "output_type": "stream",
     "text": [
      "123\n"
     ]
    }
   ],
   "source": [
    "class Solution1:\n",
    "    def removeTrailingZeros(self, num: str) -> str:\n",
    "        i =  len(num)-1\n",
    "        while i>=0:\n",
    "            if num[i] != '0':\n",
    "                break\n",
    "            i-=1\n",
    "        return num[0:i+1]\n",
    "\n",
    "obj1 = Solution1()\n",
    "print(obj1.removeTrailingZeros('123'))"
   ]
  },
  {
   "cell_type": "code",
   "execution_count": 72,
   "metadata": {},
   "outputs": [
    {
     "name": "stdout",
     "output_type": "stream",
     "text": [
      "[[1, 1, 0], [1, 0, 1], [0, 1, 1]]\n",
      "None\n"
     ]
    }
   ],
   "source": [
    "class Solution:\n",
    "    def getbotright(self, grid, i, j, rows, columns):\n",
    "        mys = set()\n",
    "        while i<rows and j<columns:\n",
    "            mys.add(grid[i][j])\n",
    "            i+=1\n",
    "            j+=1\n",
    "        return len(mys)\n",
    "    def gettopleft(self, grid, i, j, rows, columns):\n",
    "        mys = set()\n",
    "        while i>=0 and j>=0:\n",
    "            mys.add(grid[i][j])\n",
    "            i-=1\n",
    "            j-=1\n",
    "        return len(mys)\n",
    "    def differenceOfDistinctValues(self, grid: list[list[int]]) -> list[list[int]]:\n",
    "        columns = len(grid[0])\n",
    "        rows = len(grid)\n",
    "        new_l = []\n",
    "        big_l = []\n",
    "        for i in range(rows):\n",
    "            for j in range(columns):\n",
    "                val = abs(self.gettopleft(grid,i-1,j-1,rows,columns) - self.getbotright(grid,i+1,j+1,rows,columns))\n",
    "                new_l.append(val)\n",
    "            big_l.append(new_l)\n",
    "            new_l = []\n",
    "        print(big_l)\n",
    "\n",
    "obj = Solution()\n",
    "print(obj.differenceOfDistinctValues([[1,2,3],[3,1,5],[3,2,1]]))\n",
    "        "
   ]
  },
  {
   "cell_type": "code",
   "execution_count": 2,
   "metadata": {},
   "outputs": [
    {
     "ename": "ModuleNotFoundError",
     "evalue": "No module named 'faker'",
     "output_type": "error",
     "traceback": [
      "\u001b[1;31m---------------------------------------------------------------------------\u001b[0m",
      "\u001b[1;31mModuleNotFoundError\u001b[0m                       Traceback (most recent call last)",
      "\u001b[1;32md:\\python projects\\Practice\\sample.ipynb Cell 6\u001b[0m line \u001b[0;36m1\n\u001b[1;32m----> <a href='vscode-notebook-cell:/d%3A/python%20projects/Practice/sample.ipynb#W5sZmlsZQ%3D%3D?line=0'>1</a>\u001b[0m \u001b[39mfrom\u001b[39;00m \u001b[39mfaker\u001b[39;00m \u001b[39mimport\u001b[39;00m Faker\n\u001b[0;32m      <a href='vscode-notebook-cell:/d%3A/python%20projects/Practice/sample.ipynb#W5sZmlsZQ%3D%3D?line=1'>2</a>\u001b[0m \u001b[39mimport\u001b[39;00m \u001b[39mpandas\u001b[39;00m \u001b[39mas\u001b[39;00m \u001b[39mpd\u001b[39;00m\n\u001b[0;32m      <a href='vscode-notebook-cell:/d%3A/python%20projects/Practice/sample.ipynb#W5sZmlsZQ%3D%3D?line=2'>3</a>\u001b[0m f \u001b[39m=\u001b[39m Faker()\n",
      "\u001b[1;31mModuleNotFoundError\u001b[0m: No module named 'faker'"
     ]
    }
   ],
   "source": [
    "from faker import Faker\n",
    "import pandas as pd\n",
    "f = Faker()\n",
    "df = pd.DataFrame([f.profile() for i in range(20)])\n",
    "df.to_json(\"MyData1.json\")"
   ]
  },
  {
   "cell_type": "code",
   "execution_count": 57,
   "metadata": {},
   "outputs": [
    {
     "name": "stdout",
     "output_type": "stream",
     "text": [
      "in generator\n",
      "20\n",
      "40\n",
      "Closing coroutine!!\n"
     ]
    },
    {
     "ename": "StopIteration",
     "evalue": "",
     "output_type": "error",
     "traceback": [
      "\u001b[1;31m---------------------------------------------------------------------------\u001b[0m",
      "\u001b[1;31mStopIteration\u001b[0m                             Traceback (most recent call last)",
      "Cell \u001b[1;32mIn[57], line 19\u001b[0m\n\u001b[0;32m     17\u001b[0m gen\u001b[39m.\u001b[39msend(\u001b[39m20\u001b[39m)\n\u001b[0;32m     18\u001b[0m gen\u001b[39m.\u001b[39mclose()\n\u001b[1;32m---> 19\u001b[0m gen\u001b[39m.\u001b[39;49msend(\u001b[39m40\u001b[39;49m)\n",
      "\u001b[1;31mStopIteration\u001b[0m: "
     ]
    }
   ],
   "source": [
    "def double_inputs():\n",
    "    print(\"in generator\")\n",
    "    try:\n",
    "        while True:\n",
    "            x = yield\n",
    "            print(x*2)\n",
    "        # yield x * 2\n",
    "    except GeneratorExit:\n",
    "            print(\"Closing coroutine!!\")\n",
    "\n",
    "gen = double_inputs()\n",
    "\n",
    "\n",
    "\n",
    "next(gen)     # run up to the first yield\n",
    "gen.send(10)\n",
    "gen.send(20)\n",
    "gen.close()\n",
    "gen.send(40)\n",
    "\n"
   ]
  },
  {
   "cell_type": "code",
   "execution_count": 10,
   "metadata": {},
   "outputs": [
    {
     "name": "stdout",
     "output_type": "stream",
     "text": [
      "4\n",
      "None\n",
      "0\n",
      "2\n",
      "4\n",
      "6\n"
     ]
    }
   ],
   "source": [
    "def fun():\n",
    "    while True:\n",
    "        data = yield\n",
    "        # print(data*2)\n",
    "        yield data*2\n",
    "\n",
    "def fun1(gen):\n",
    "    yield from gen\n",
    "\n",
    "\n",
    "obj1 = fun1(fun())\n",
    "obj1.send(None)\n",
    "print(obj1.send(2))\n",
    "print(obj1.send(3))\n",
    "for i in range(4):\n",
    "    print(obj1.send(i))\n",
    "    next(obj1)"
   ]
  },
  {
   "cell_type": "code",
   "execution_count": 10,
   "metadata": {},
   "outputs": [
    {
     "name": "stdout",
     "output_type": "stream",
     "text": [
      "[0, 0, 0, 0]\n",
      "4\n"
     ]
    }
   ],
   "source": [
    "class Solution:\n",
    "    def longestValidParentheses(self, s):\n",
    "        dp = [0]*len(s)\n",
    "        st = []\n",
    "        for i in range(len(s)):\n",
    "            if s[i] == '(':\n",
    "                st.append(i)\n",
    "            elif st:\n",
    "                j = st.pop()\n",
    "                dp[i] = dp[j-1] + i - j + 1\n",
    "        return max(dp)\n",
    "   \n",
    "    \n",
    "obj = Solution()\n",
    "print(obj.longestValidParentheses(\"()()\"))\n"
   ]
  },
  {
   "cell_type": "code",
   "execution_count": 3,
   "metadata": {},
   "outputs": [
    {
     "name": "stdout",
     "output_type": "stream",
     "text": [
      "10 20 10 () 100 {}\n"
     ]
    }
   ],
   "source": [
    "def func(a,b,c=10,*d,f=100,**e):\n",
    "    print(a,b,c,d,f,e)\n",
    "\n",
    "func(10,20)"
   ]
  },
  {
   "cell_type": "code",
   "execution_count": 2,
   "metadata": {},
   "outputs": [
    {
     "data": {
      "text/plain": [
       "240"
      ]
     },
     "execution_count": 2,
     "metadata": {},
     "output_type": "execute_result"
    }
   ],
   "source": [
    "def outer(out):\n",
    "    def warp(func):\n",
    "        def inner(val):\n",
    "            return func(val)*2*out\n",
    "        return inner\n",
    "    return warp\n",
    "\n",
    "def second(func):\n",
    "    def inner(val):\n",
    "        return func(val)*3\n",
    "    return inner\n",
    "\n",
    "@second\n",
    "@outer(4)\n",
    "def func(val):\n",
    "    return val\n",
    "\n",
    "func(10)\n",
    "# https://edube.org/learn/python-advanced-1/composition-vs-inheritance-two-ways-to-the-same-destination-4"
   ]
  },
  {
   "cell_type": "code",
   "execution_count": 24,
   "metadata": {},
   "outputs": [
    {
     "name": "stdout",
     "output_type": "stream",
     "text": [
      "True\n"
     ]
    }
   ],
   "source": [
    "class Solution:\n",
    "    def isSubsequence(self, s: str, t: str):\n",
    "        if len(s) > len(t):return False\n",
    "        if len(s) == 0:return True\n",
    "        subsequence=0\n",
    "        for i in range(0,len(t)):\n",
    "            if subsequence <= len(s) -1:\n",
    "                if s[subsequence]==t[i]:\n",
    "                    \n",
    "                    subsequence+=1\n",
    "        return  subsequence == len(s)           \n",
    "                \n",
    "\n",
    "\n",
    "obj = Solution()\n",
    "print(obj.isSubsequence('ab','bbaaab'))\n",
    "\n",
    "        "
   ]
  },
  {
   "cell_type": "code",
   "execution_count": 15,
   "metadata": {},
   "outputs": [
    {
     "name": "stdout",
     "output_type": "stream",
     "text": [
      "[0, 6, 7, 11]\n"
     ]
    }
   ],
   "source": [
    "a = 'stringssabcs'\n",
    "ch = 's'\n",
    "indexes = [index for index, cha in enumerate(a) if cha == ch]\n",
    "print(indexes)\n",
    "\n",
    "ch = 'ab'\n",
    "s = 'babaab'"
   ]
  },
  {
   "cell_type": "code",
   "execution_count": 33,
   "metadata": {},
   "outputs": [
    {
     "name": "stdout",
     "output_type": "stream",
     "text": [
      "33333654321\n",
      "False\n"
     ]
    }
   ],
   "source": [
    "s = \"12345633333\"\n",
    "v = reversed(list(s))\n",
    "print(s[::-1])\n",
    "l = [0,1,1]\n",
    "print(l == l[::-1])"
   ]
  },
  {
   "cell_type": "code",
   "execution_count": 77,
   "metadata": {},
   "outputs": [
    {
     "name": "stdout",
     "output_type": "stream",
     "text": [
      "True\n"
     ]
    }
   ],
   "source": [
    "class Solution:\n",
    "    def validPalindrome(self, s):\n",
    "        lower_index = 0\n",
    "        upper_index = len(s)-1\n",
    "        while lower_index < upper_index:\n",
    "            if s[lower_index] != s[upper_index]:\n",
    "                remove_lower = s[:lower_index]+s[lower_index+1:]\n",
    "                remove_upper = s[:upper_index]+s[upper_index+1:]\n",
    "                if (remove_lower == remove_lower[::-1]) or (remove_upper == remove_upper[::-1]):\n",
    "                    return True\n",
    "            lower_index +=1\n",
    "            upper_index -=1\n",
    "\n",
    "        return False\n",
    "    \n",
    "obj = Solution()\n",
    "print(obj.validPalindrome(\"abca\"))"
   ]
  },
  {
   "cell_type": "code",
   "execution_count": 7,
   "metadata": {},
   "outputs": [
    {
     "name": "stdout",
     "output_type": "stream",
     "text": [
      "51\n"
     ]
    }
   ],
   "source": [
    "class Solution:\n",
    "    def removeDigit(self, number, digit):\n",
    "        index = max_num = 0\n",
    "        while index < len(number):\n",
    "            if number[index] == digit:\n",
    "                l = list(number)\n",
    "                l.pop(index)\n",
    "                max_num = max(int(''.join(l)), max_num)\n",
    "            index+=1\n",
    "        return str(max_num)\n",
    "    \n",
    "\n",
    "obj = Solution()\n",
    "print(obj.removeDigit(\"551\",\"5\"))\n"
   ]
  },
  {
   "cell_type": "code",
   "execution_count": 17,
   "metadata": {},
   "outputs": [],
   "source": [
    "report = {\"A\":{\n",
    "        \"func\":flagged_func,\n",
    "        \"sql\":\"select * \"\n",
    "}}\n",
    "\n",
    "def flagged_func(report_name):\n",
    "    return f\"my report name is {report[report_name].get('sql')}\"\n",
    "\n",
    "\n",
    "def func_distributor(func, report_name):\n",
    "    print(func)\n",
    "    return func(report_name)\n",
    "\n",
    "\n",
    "def generate(report_name):\n",
    "    if \"func\" in report[report_name]:\n",
    "        print(func_distributor(report[report_name]['func'], report_name))\n",
    "\n"
   ]
  },
  {
   "cell_type": "code",
   "execution_count": 18,
   "metadata": {},
   "outputs": [
    {
     "name": "stdout",
     "output_type": "stream",
     "text": [
      "<function flagged_func at 0x0000020CCA7E5E40>\n",
      "my report name is select * \n"
     ]
    }
   ],
   "source": [
    "generate(\"A\")"
   ]
  },
  {
   "cell_type": "code",
   "execution_count": 11,
   "metadata": {},
   "outputs": [
    {
     "name": "stdout",
     "output_type": "stream",
     "text": [
      " a = 1 b= 2 c = 222 d = 1000 e = {}\n"
     ]
    }
   ],
   "source": [
    "def fun(a,b,c=10,d=100,**e):\n",
    "    print(f\" a = {a} b= {b} c = {c} d = {d} e = {e}\")\n",
    "\n",
    "fun(1,2,d = 1000,c=222)"
   ]
  },
  {
   "cell_type": "code",
   "execution_count": 13,
   "metadata": {},
   "outputs": [
    {
     "data": {
      "text/plain": [
       "33"
      ]
     },
     "execution_count": 13,
     "metadata": {},
     "output_type": "execute_result"
    }
   ],
   "source": [
    "100//3"
   ]
  },
  {
   "cell_type": "code",
   "execution_count": 7,
   "metadata": {},
   "outputs": [
    {
     "name": "stdout",
     "output_type": "stream",
     "text": [
      "Inside object with name lol\n"
     ]
    }
   ],
   "source": [
    "\n",
    "def display(name):\n",
    "        return f\"Inside object with name {name}\"\n",
    "\n",
    "\n",
    "def add_display_method(cls):    \n",
    "    def wrapper():\n",
    "        setattr(cls, 'display', staticmethod(display))\n",
    "    wrapper()\n",
    "    return cls\n",
    "\n",
    "@add_display_method\n",
    "class Myclass:\n",
    "    def __init__(self) -> None:\n",
    "        pass\n",
    "\n",
    "\n",
    "obj = Myclass()\n",
    "print(obj.display('lol'))"
   ]
  },
  {
   "cell_type": "code",
   "execution_count": 1,
   "metadata": {},
   "outputs": [
    {
     "ename": "TypeError",
     "evalue": "Can't instantiate abstract class A with abstract method display",
     "output_type": "error",
     "traceback": [
      "\u001b[1;31m---------------------------------------------------------------------------\u001b[0m",
      "\u001b[1;31mTypeError\u001b[0m                                 Traceback (most recent call last)",
      "Cell \u001b[1;32mIn[1], line 9\u001b[0m\n\u001b[0;32m      4\u001b[0m     \u001b[38;5;129m@abstractmethod\u001b[39m\n\u001b[0;32m      5\u001b[0m     \u001b[38;5;28;01mdef\u001b[39;00m \u001b[38;5;21mdisplay\u001b[39m():\n\u001b[0;32m      6\u001b[0m         \u001b[38;5;28mprint\u001b[39m(\u001b[38;5;124m\"\u001b[39m\u001b[38;5;124mdisplay value\u001b[39m\u001b[38;5;124m\"\u001b[39m)\n\u001b[1;32m----> 9\u001b[0m obj \u001b[38;5;241m=\u001b[39m A()\n\u001b[0;32m     10\u001b[0m obj\u001b[38;5;241m.\u001b[39mdisplay()\n",
      "\u001b[1;31mTypeError\u001b[0m: Can't instantiate abstract class A with abstract method display"
     ]
    }
   ],
   "source": [
    "from abc import abstractmethod, ABC\n",
    "\n",
    "class A(ABC):\n",
    "    @abstractmethod\n",
    "    def display():\n",
    "        print(\"display value\")\n",
    "\n",
    "\n",
    "obj = A()\n",
    "obj.display()"
   ]
  },
  {
   "cell_type": "code",
   "execution_count": 2,
   "metadata": {},
   "outputs": [],
   "source": [
    "class Parent(Exception):\n",
    "    def __init__(self, *args: object) -> None:\n",
    "        super().__init__(*args)\n",
    "\n",
    "    def __str__(self) -> str:\n",
    "        return super().__str__()\n",
    "    \n",
    "class ReportNotfound(Parent):\n",
    "    def __init__(self, *args: object) -> None:\n",
    "        super().__init__(*args)\n",
    "\n",
    "    def __str__(self) -> str:\n",
    "        return f\"Report not found {super().__str__()}\"\n",
    "    \n",
    "class AppNotfound(Parent):\n",
    "    def __init__(self, *args: object) -> None:\n",
    "        super().__init__(*args)\n",
    "\n",
    "    def __str__(self) -> str:\n",
    "        return f\"App not found {super().__str__()}\""
   ]
  },
  {
   "cell_type": "code",
   "execution_count": 12,
   "metadata": {},
   "outputs": [
    {
     "ename": "ZeroDivisionError",
     "evalue": "division by zero",
     "output_type": "error",
     "traceback": [
      "\u001b[1;31m---------------------------------------------------------------------------\u001b[0m",
      "\u001b[1;31mZeroDivisionError\u001b[0m                         Traceback (most recent call last)",
      "Cell \u001b[1;32mIn[12], line 18\u001b[0m\n\u001b[0;32m     15\u001b[0m         \u001b[38;5;28;01mraise\u001b[39;00m\n\u001b[0;32m     17\u001b[0m \u001b[38;5;28;01mif\u001b[39;00m \u001b[38;5;241m200\u001b[39m\u001b[38;5;241m<\u001b[39m\u001b[38;5;241m300\u001b[39m:\n\u001b[1;32m---> 18\u001b[0m     sample()\n\u001b[0;32m     19\u001b[0m     newsample()\n",
      "Cell \u001b[1;32mIn[12], line 3\u001b[0m, in \u001b[0;36msample\u001b[1;34m()\u001b[0m\n\u001b[0;32m      1\u001b[0m \u001b[38;5;28;01mdef\u001b[39;00m \u001b[38;5;21msample\u001b[39m():\n\u001b[0;32m      2\u001b[0m     \u001b[38;5;28;01mtry\u001b[39;00m:\n\u001b[1;32m----> 3\u001b[0m         \u001b[38;5;241m10\u001b[39m\u001b[38;5;241m/\u001b[39m\u001b[38;5;241m0\u001b[39m\n\u001b[0;32m      4\u001b[0m         \u001b[38;5;28;01mraise\u001b[39;00m \n\u001b[0;32m      5\u001b[0m     \u001b[38;5;28;01mexcept\u001b[39;00m AppNotfound \u001b[38;5;28;01mas\u001b[39;00m err:\n",
      "\u001b[1;31mZeroDivisionError\u001b[0m: division by zero"
     ]
    }
   ],
   "source": [
    "def sample():\n",
    "    try:\n",
    "        10/0\n",
    "        raise \n",
    "    except AppNotfound as err:\n",
    "        print(err)\n",
    "        raise\n",
    "\n",
    "def newsample():\n",
    "    try:\n",
    "        if 100>20:\n",
    "            raise ReportNotfound('nippz')\n",
    "    except ReportNotfound as err:\n",
    "        print(\"yoooooooooo\")\n",
    "        raise\n",
    "\n",
    "if 200<300:\n",
    "    sample()\n",
    "    newsample()\n",
    "\n",
    "    "
   ]
  },
  {
   "cell_type": "code",
   "execution_count": 18,
   "metadata": {},
   "outputs": [
    {
     "name": "stdout",
     "output_type": "stream",
     "text": [
      "starting receiver 2\n"
     ]
    }
   ],
   "source": [
    "from abc import abstractmethod, ABC\n",
    "\n",
    "class abstractCommand(ABC):\n",
    "    def __init__(self, receiver) -> None:\n",
    "        self.receiver = receiver\n",
    "\n",
    "    @abstractmethod\n",
    "    def process():\n",
    "        pass\n",
    "\n",
    "class Command(abstractCommand):\n",
    "    def __init__(self, receiver) -> None:\n",
    "        super().__init__(receiver)\n",
    "\n",
    "    def process(self):\n",
    "        self.receiver.execute()   \n",
    "\n",
    "\n",
    "class Receiver1:\n",
    "    \n",
    "    def execute(self):\n",
    "        print(\"Executing receiver\")\n",
    "\n",
    "\n",
    "class Receiver2:\n",
    "    def __init__(self) -> None:\n",
    "        pass\n",
    "\n",
    "    def execute(self):\n",
    "        print(\"starting receiver 2\")\n",
    "\n",
    "\n",
    "class Invoker:\n",
    "    def __init__(self) -> None:\n",
    "        self.cmd = None\n",
    "\n",
    "    def command(self, cmd):\n",
    "        self.cmd = cmd\n",
    "\n",
    "    def execute(self):\n",
    "        self.cmd.process()\n",
    "\n",
    "\n",
    "\n",
    "inv = Invoker()\n",
    "inv.command(Command(Receiver2()))\n",
    "inv.execute()"
   ]
  },
  {
   "cell_type": "code",
   "execution_count": 4,
   "metadata": {},
   "outputs": [
    {
     "data": {
      "text/plain": [
       "2432902008176640000"
      ]
     },
     "execution_count": 4,
     "metadata": {},
     "output_type": "execute_result"
    }
   ],
   "source": [
    "def extraLongFactorials(n):\n",
    "    if n == 0 or n == 1:\n",
    "        return 1\n",
    "    else:\n",
    "        return n*extraLongFactorials(n-1)\n",
    "    \n",
    "extraLongFactorials(20)"
   ]
  },
  {
   "cell_type": "code",
   "execution_count": 21,
   "metadata": {},
   "outputs": [
    {
     "data": {
      "text/plain": [
       "[278, 576, 496, 727, 410, 124, 338, 149, 209, 702, 282, 718, 771, 575, 436]"
      ]
     },
     "execution_count": 21,
     "metadata": {},
     "output_type": "execute_result"
    }
   ],
   "source": [
    "res = list(map(int, \"278 576 496 727 410 124 338 149 209 702 282 718 771 575 436\".split(\" \")))\n",
    "res"
   ]
  },
  {
   "cell_type": "code",
   "execution_count": 25,
   "metadata": {},
   "outputs": [
    {
     "name": "stdout",
     "output_type": "stream",
     "text": [
      "771\n",
      "[124, 149, 209, 278, 282, 338, 410, 436, 496, 575, 576, 702, 718, 727] 6020\n",
      "[124, 149, 209, 278, 282, 338, 410, 436, 496, 575, 576, 702, 718, 727] 6020\n"
     ]
    },
    {
     "data": {
      "text/plain": [
       "14"
      ]
     },
     "execution_count": 25,
     "metadata": {},
     "output_type": "execute_result"
    }
   ],
   "source": [
    "def nonDivisibleSubset(k, s):\n",
    "    while sum(k) > 0:\n",
    "        if sum(k) % s == 0:\n",
    "            print(k, sum(k))\n",
    "            return len(k)\n",
    "        else:\n",
    "            val = sum(k) % s\n",
    "            k = sorted(k)\n",
    "            min_val = max(k)\n",
    "            min_index = k.index(max(k))\n",
    "            index = 0\n",
    "            while k[index] <= s: \n",
    "                if abs(val-k[index]) < min_val:\n",
    "                    min_val = abs(val-k[index])\n",
    "                    min_index = index\n",
    "                index +=1\n",
    "            print(k[min_index])\n",
    "            k.pop(min_index)\n",
    "            nonDivisibleSubset(k, s)\n",
    "\n",
    "nonDivisibleSubset([278, 576, 496, 727, 410, 124, 338, 149, 209, 702, 282, 718, 771, 575, 436],7)"
   ]
  },
  {
   "cell_type": "code",
   "execution_count": 38,
   "metadata": {},
   "outputs": [
    {
     "name": "stdout",
     "output_type": "stream",
     "text": [
      "[0, 0, 0]\n",
      "nextline [0, 3, 1]\n",
      "3\n"
     ]
    },
    {
     "data": {
      "text/plain": [
       "3"
      ]
     },
     "execution_count": 38,
     "metadata": {},
     "output_type": "execute_result"
    }
   ],
   "source": [
    "def nonDivisibleSubset(k, S):\n",
    "    res = [0 for i in range(0, k)]\n",
    "    for i in S:\n",
    "        res[i%k] += 1\n",
    "    maxN = 1 if res[0]>0 else 0\n",
    "    for i in range(1,k//2+1):\n",
    "        if (i != k-i):\n",
    "            maxN += max(res[i],res[k-i])\n",
    "        else:\n",
    "            maxN += 1\n",
    "    return maxN\n",
    "\n",
    "nonDivisibleSubset(3,[1,7,2,4])"
   ]
  },
  {
   "cell_type": "code",
   "execution_count": 17,
   "metadata": {},
   "outputs": [
    {
     "name": "stdout",
     "output_type": "stream",
     "text": [
      "ac\n"
     ]
    }
   ],
   "source": [
    "l = ['a','c']\n",
    "print(''.join(l))"
   ]
  },
  {
   "cell_type": "code",
   "execution_count": 108,
   "metadata": {},
   "outputs": [
    {
     "name": "stdout",
     "output_type": "stream",
     "text": [
      "[[104, 101, 102, 103], [97, 100, 121, 105, 107, 104, 99], [97, 98, 99]]\n"
     ]
    }
   ],
   "source": [
    "s = ['hefg','adyikhc', 'abc']\n",
    "res = list()\n",
    "for i in s:\n",
    "    l = list()\n",
    "    for c in i:\n",
    "        val = ord(c)\n",
    "        l.append(val)\n",
    "    res.append(l)\n",
    "\n",
    "print(res)\n"
   ]
  },
  {
   "cell_type": "code",
   "execution_count": 31,
   "metadata": {},
   "outputs": [],
   "source": [
    "def biggerIsGreater(res):    \n",
    "    index = len(res)-1\n",
    "    while index>0:\n",
    "        if res[index] > res[index-1]:\n",
    "            break\n",
    "        else:\n",
    "            index-=1\n",
    "    left_list, right_list = list(res[:index]), list(res[index:])\n",
    "    lowest_max = max(right_list)\n",
    "    if not left_list:\n",
    "        return \"No result\"\n",
    "    for i in right_list:\n",
    "        if i> left_list[-1]:\n",
    "            lowest_max = min(lowest_max, i)\n",
    "    left_list[-1], right_list[right_list.index(lowest_max)] = right_list[right_list.index(lowest_max)], left_list[-1]\n",
    "\n",
    "    left_list+=(sorted(right_list))\n",
    "    return ''.join(left_list)\n"
   ]
  },
  {
   "cell_type": "code",
   "execution_count": 34,
   "metadata": {},
   "outputs": [
    {
     "name": "stdout",
     "output_type": "stream",
     "text": [
      "ba\n"
     ]
    }
   ],
   "source": [
    "print(biggerIsGreater('ab'))"
   ]
  },
  {
   "cell_type": "code",
   "execution_count": 28,
   "metadata": {},
   "outputs": [
    {
     "name": "stdout",
     "output_type": "stream",
     "text": [
      "[[], [], []]\n",
      "[1, 3, 4]\n",
      "[2, 2, 3]\n"
     ]
    },
    {
     "data": {
      "text/plain": [
       "44"
      ]
     },
     "execution_count": 28,
     "metadata": {},
     "output_type": "execute_result"
    }
   ],
   "source": [
    "def surfaceArea(A):\n",
    "    def getsurface(arr, order = 'A'):\n",
    "        if order == 'A':\n",
    "            sum = arr[0]\n",
    "            for index in range(1,len(arr)):\n",
    "                if arr[index]>arr[index-1]:\n",
    "                    sum+=(arr[index]-arr[index-1])\n",
    "            return sum\n",
    "        \n",
    "        if order == 'D':\n",
    "            sum = arr[-1]\n",
    "            for index in range(len(arr)-2,-1,-1):\n",
    "                if arr[index]>arr[index+1]:\n",
    "                    sum+=(arr[index]-arr[index+1])\n",
    "            return sum\n",
    "        \n",
    "    top = bottom =  len(A)*len(max(A))\n",
    "    tsa = top+bottom\n",
    "    ls = list([[] for i in range(len(max(A))) ])\n",
    "    print(ls)\n",
    "    for row in A:\n",
    "        print(row)\n",
    "        tsa+= getsurface(row, order='D')\n",
    "        tsa+= getsurface(row, order='A')\n",
    "        for col_index in range(len(row)):\n",
    "            ls[col_index].append(row[col_index])\n",
    "    for row in ls:\n",
    "        tsa+= getsurface(row, order='D')\n",
    "        tsa+= getsurface(row, order='A')\n",
    "    return tsa\n",
    "\n",
    "x = [[1,3,4],[2,2,3]]\n",
    "surfaceArea(x)\n"
   ]
  },
  {
   "cell_type": "code",
   "execution_count": 1,
   "metadata": {},
   "outputs": [
    {
     "data": {
      "text/plain": [
       "['sample_non_func']"
      ]
     },
     "execution_count": 1,
     "metadata": {},
     "output_type": "execute_result"
    }
   ],
   "source": [
    "def func():\n",
    "    print(\"hello world\")\n",
    "\n",
    "import joblib\n",
    "\n",
    "joblib.dump(func, \"sample_non_func\")\n"
   ]
  },
  {
   "cell_type": "code",
   "execution_count": 2,
   "metadata": {},
   "outputs": [
    {
     "name": "stdout",
     "output_type": "stream",
     "text": [
      "hello world\n"
     ]
    }
   ],
   "source": [
    "function = joblib.load(\"sample_non_func\")\n",
    "function()"
   ]
  },
  {
   "cell_type": "code",
   "execution_count": 6,
   "metadata": {},
   "outputs": [],
   "source": [
    "class FibonacciIterator:\n",
    "    def __init__(self, stop=10):\n",
    "        self._stop = stop\n",
    "        self._index = 0\n",
    "        self._current = 0\n",
    "        self._next = 1\n",
    "\n",
    "    def __iter__(self):\n",
    "        return self\n",
    "\n",
    "    def __next__(self):\n",
    "        if self._index < self._stop:\n",
    "            self._index += 1\n",
    "            fib_number = self._current\n",
    "            self._current, self._next = (\n",
    "                self._next,\n",
    "                self._current + self._next,\n",
    "            )\n",
    "            return fib_number\n",
    "        else:\n",
    "            raise StopIteration"
   ]
  },
  {
   "cell_type": "code",
   "execution_count": 12,
   "metadata": {},
   "outputs": [
    {
     "name": "stdout",
     "output_type": "stream",
     "text": [
      "<__main__.FibonacciIterator object at 0x000002113E845A90>\n",
      "0\n",
      "1\n",
      "1\n",
      "2\n",
      "3\n",
      "5\n",
      "8\n",
      "13\n",
      "21\n",
      "34\n"
     ]
    }
   ],
   "source": [
    "obj = FibonacciIterator()\n",
    "print(obj)\n",
    "for fib in FibonacciIterator():\n",
    "    print(fib)\n"
   ]
  },
  {
   "cell_type": "code",
   "execution_count": 21,
   "metadata": {},
   "outputs": [],
   "source": [
    "def permute(s):\n",
    "  out = []\n",
    "\n",
    "  if len(s) == 1:\n",
    "    return s\n",
    "  else:\n",
    "    for i,let in enumerate(s):\n",
    "\n",
    "      for perm in permute(s[:i] + s[i+1:]):\n",
    "        out += [let + perm]\n",
    "  return out"
   ]
  },
  {
   "cell_type": "code",
   "execution_count": 22,
   "metadata": {},
   "outputs": [
    {
     "data": {
      "text/plain": [
       "[10,\n",
       " 10,\n",
       " 10,\n",
       " 10,\n",
       " 10,\n",
       " 10,\n",
       " 10,\n",
       " 10,\n",
       " 10,\n",
       " 10,\n",
       " 10,\n",
       " 10,\n",
       " 10,\n",
       " 10,\n",
       " 10,\n",
       " 10,\n",
       " 10,\n",
       " 10,\n",
       " 10,\n",
       " 10,\n",
       " 10,\n",
       " 10,\n",
       " 10,\n",
       " 10]"
      ]
     },
     "execution_count": 22,
     "metadata": {},
     "output_type": "execute_result"
    }
   ],
   "source": [
    "permute([3,2,1,4])"
   ]
  }
 ],
 "metadata": {
  "kernelspec": {
   "display_name": "Python 3",
   "language": "python",
   "name": "python3"
  },
  "language_info": {
   "codemirror_mode": {
    "name": "ipython",
    "version": 3
   },
   "file_extension": ".py",
   "mimetype": "text/x-python",
   "name": "python",
   "nbconvert_exporter": "python",
   "pygments_lexer": "ipython3",
   "version": "3.11.5"
  },
  "orig_nbformat": 4
 },
 "nbformat": 4,
 "nbformat_minor": 2
}
