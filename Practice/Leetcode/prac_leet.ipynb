{
 "cells": [
  {
   "cell_type": "code",
   "execution_count": 1,
   "metadata": {},
   "outputs": [
    {
     "name": "stdout",
     "output_type": "stream",
     "text": [
      "loading -"
     ]
    },
    {
     "name": "stdout",
     "output_type": "stream",
     "text": [
      "Done!     "
     ]
    }
   ],
   "source": [
    "import itertools\n",
    "import threading\n",
    "import time\n",
    "import sys\n",
    "\n",
    "done = False\n",
    "#here is the animation\n",
    "def animate():\n",
    "    for c in itertools.cycle(['|', '/', '-', '\\\\']):\n",
    "        if done:\n",
    "            break\n",
    "        sys.stdout.write('\\rloading ' + c)\n",
    "        sys.stdout.flush()\n",
    "        time.sleep(0.1)\n",
    "    sys.stdout.write('\\rDone!     ')\n",
    "\n",
    "t = threading.Thread(target=animate)\n",
    "t.start()\n",
    "\n",
    "#long process here\n",
    "time.sleep(10)\n",
    "done = True\n"
   ]
  },
  {
   "cell_type": "code",
   "execution_count": 3,
   "metadata": {},
   "outputs": [
    {
     "name": "stderr",
     "output_type": "stream",
     "text": [
      "Loading...: 100%|██████████| 100/100 [01:40<00:00,  1.00s/it]\n"
     ]
    }
   ],
   "source": [
    "from tqdm import tqdm\n",
    "\n",
    "for i in tqdm (range (100), desc=\"Loading\"):\n",
    "\ttime.sleep(1)\n",
    "\tpass\n"
   ]
  },
  {
   "cell_type": "code",
   "execution_count": 4,
   "metadata": {},
   "outputs": [
    {
     "name": "stdout",
     "output_type": "stream",
     "text": [
      "1\n"
     ]
    }
   ],
   "source": [
    "\n",
    "class Solution:\n",
    "    def balanceBST(self, root):\n",
    "        sorted_l = sorted(root)\n",
    "        print(int(len(sorted_l)/2))\n",
    "obj = Solution()\n",
    "obj.balanceBST([2,1,3])"
   ]
  },
  {
   "cell_type": "code",
   "execution_count": 5,
   "metadata": {},
   "outputs": [],
   "source": [
    "# Definition for a binary tree node.\n",
    "class TreeNode:\n",
    "    def __init__(self, val=0, left=None, right=None):\n",
    "        self.val = val\n",
    "        self.left = left\n",
    "        self.right = right\n",
    "\n",
    "class Solution:\n",
    "    def getTargetCopy(self, original: TreeNode, cloned: TreeNode, target: TreeNode) -> TreeNode:\n",
    "        if not original: return None\n",
    "        if original is target: return cloned\n",
    "        return self.getTargetCopy(original.left, cloned.left, target) or self.getTargetCopy(original.right, cloned.right, target)\n",
    "\n",
    "\n",
    "\n"
   ]
  },
  {
   "cell_type": "code",
   "execution_count": 33,
   "metadata": {},
   "outputs": [],
   "source": [
    "class Solution:\n",
    "    average_count = 0\n",
    "    sum = 0\n",
    "    count = 0\n",
    "    def averageOfSubtree(self, root: TreeNode):\n",
    "        self.sum = 0\n",
    "        self.count = 0\n",
    "        if not root: return\n",
    "        elif root.val == self.countaveragesubtree(root):\n",
    "            self.average_count+=1\n",
    "        self.averageOfSubtree(root.left)\n",
    "        self.averageOfSubtree(root.right)\n",
    "        return self.average_count\n",
    "\n",
    "    def countaveragesubtree(self, root):\n",
    "        if not root: return\n",
    "        else: \n",
    "            self.sum+=root.val\n",
    "            self.count+=1\n",
    "        self.countaveragesubtree(root.left)\n",
    "        self.countaveragesubtree(root.right)\n",
    "        return self.sum//self.count\n",
    "        "
   ]
  },
  {
   "cell_type": "code",
   "execution_count": 1,
   "metadata": {},
   "outputs": [],
   "source": [
    "class TreeNode:\n",
    "    def __init__(self, val=0, left=None, right=None):\n",
    "        self.val = val\n",
    "        self.left = left\n",
    "        self.right = right\n",
    "class Solution:\n",
    "    sum_val = set()\n",
    "    def rangeSumBST(self, root: TreeNode, low: int, high: int) -> int:\n",
    "        self.sum_val = set()\n",
    "        self.getSum(root, low, high)\n",
    "        return sum(self.sum_val)\n",
    "    def getSum(self, root, low, high):\n",
    "        if not root: return None\n",
    "        else:\n",
    "            self.getSum(root.left,low,high)\n",
    "            if root.val>= low and root.val<=high:\n",
    "                self.sum_val.add(root.val)\n",
    "            self.getSum(root.right, low, high)\n",
    "       \n",
    "         \n",
    "        #     print(root.val)\n",
    "        #     self.sum_val.add(root.val)\n",
    "            "
   ]
  },
  {
   "cell_type": "code",
   "execution_count": 8,
   "metadata": {},
   "outputs": [],
   "source": [
    "class Solution:\n",
    "    def allPossibleFBT(self, n: int):\n",
    "       List = list()\n",
    "       if n == 1 or n == 2:\n",
    "           return List\n",
    "       else:\n",
    "            def createBST(root, count):\n",
    "                if count == 0 or count == 1:\n",
    "                   List.append(root)\n",
    "                   return \n",
    "                else:\n",
    "                   root.left = TreeNode(val = 0)\n",
    "                   root.right = TreeNode(val = 0)\n",
    "                   print(root.val)\n",
    "                   createBST(root.left, count-2)\n",
    "                   List.pop()\n",
    "                   createBST(root.right, count-2)\n",
    "                return List\n",
    "            return createBST(TreeNode(val = 0), n-1)\n",
    "           \n"
   ]
  },
  {
   "cell_type": "code",
   "execution_count": 9,
   "metadata": {},
   "outputs": [
    {
     "name": "stdout",
     "output_type": "stream",
     "text": [
      "7\n",
      "6\n",
      "4\n",
      "5\n",
      "7\n",
      "4\n",
      "5\n"
     ]
    },
    {
     "data": {
      "text/plain": [
       "[<__main__.TreeNode at 0x2a1d579a510>]"
      ]
     },
     "execution_count": 9,
     "metadata": {},
     "output_type": "execute_result"
    }
   ],
   "source": [
    "Solution().allPossibleFBT(7)"
   ]
  },
  {
   "cell_type": "code",
   "execution_count": 39,
   "metadata": {},
   "outputs": [],
   "source": [
    "class Solution:\n",
    "    def constructMaximumBinaryTree(self, nums: list[int]):\n",
    "        if not len(nums):\n",
    "            return None\n",
    "        else:\n",
    "            root = TreeNode(val = max(nums))\n",
    "            root.left = self.constructMaximumBinaryTree(nums[:nums.index(root.val)])\n",
    "            root.right = self.constructMaximumBinaryTree(nums[nums.index(root.val)+1:])\n",
    "        return root\n",
    "    \n",
    "    \n",
    "    def traverse(self, root):\n",
    "        if not root: return None\n",
    "        else:\n",
    "            print(root.val)\n",
    "            self.traverse(root.left)\n",
    "            self.traverse(root.right)"
   ]
  },
  {
   "cell_type": "code",
   "execution_count": 41,
   "metadata": {},
   "outputs": [
    {
     "name": "stdout",
     "output_type": "stream",
     "text": [
      "6\n",
      "3\n",
      "2\n",
      "1\n",
      "5\n",
      "0\n"
     ]
    }
   ],
   "source": [
    "nums = [3,2,1,6,0,5]\n",
    "obj = Solution().constructMaximumBinaryTree(nums)\n",
    "Solution().traverse(obj)\n"
   ]
  },
  {
   "cell_type": "code",
   "execution_count": 4,
   "metadata": {},
   "outputs": [],
   "source": [
    "class Solution:\n",
    "    sum = 0\n",
    "    def sumEvenGrandparent(self, root: TreeNode):\n",
    "        if not root: return\n",
    "        else:\n",
    "            if root.val % 2 == 0:\n",
    "                if root.left:\n",
    "                    self.sum += self.getval(root.left.left) +  self.getval(root.left.right)\n",
    "                if root.right:\n",
    "                    self.sum += self.getval(root.right.left) +  self.getval(root.right.right)\n",
    "            self.sumEvenGrandparent(root.left)\n",
    "            self.sumEvenGrandparent(root.right)\n",
    "        return self.sum\n",
    "    \n",
    "    \n",
    "    def getval(self, root):\n",
    "        if not root: return 0\n",
    "        else: return root.val"
   ]
  },
  {
   "cell_type": "code",
   "execution_count": 6,
   "metadata": {},
   "outputs": [
    {
     "name": "stdout",
     "output_type": "stream",
     "text": [
      "0\n"
     ]
    }
   ],
   "source": [
    "obj = TreeNode(val = 6, left = TreeNode(val = 7, left = TreeNode(val = 2, left = TreeNode(val = 9)), right = TreeNode(val = 7, left = TreeNode(val=1), right = TreeNode(val = 4))), right = TreeNode(val = 8, left = TreeNode(val = 1), right = TreeNode(val = 3, right = TreeNode(val = 5))))\n",
    "print(Solution().sumEvenGrandparent(TreeNode(val = 1)))"
   ]
  },
  {
   "cell_type": "code",
   "execution_count": 16,
   "metadata": {},
   "outputs": [],
   "source": [
    "class Solution:\n",
    "    def deepestLeavesSum(self, root: TreeNode) -> int:\n",
    "        h = dict()\n",
    "        h[0] = 0 \n",
    "        def recursiveTraverse(root, depth):\n",
    "            if not root: return\n",
    "            else:\n",
    "                h[depth] = root.val if not h.get(depth) else h.get(depth)+root.val\n",
    "                recursiveTraverse(root.left, depth+1)\n",
    "                recursiveTraverse(root.right, depth+1)\n",
    "        \n",
    "        recursiveTraverse(root,0)\n",
    "        return h.get(max(h.keys()))"
   ]
  },
  {
   "cell_type": "code",
   "execution_count": 25,
   "metadata": {},
   "outputs": [
    {
     "name": "stdout",
     "output_type": "stream",
     "text": [
      "0\n"
     ]
    }
   ],
   "source": [
    "l = [4,3,2,6]\n",
    "print(l.index(4))"
   ]
  },
  {
   "cell_type": "code",
   "execution_count": 26,
   "metadata": {},
   "outputs": [],
   "source": [
    "class Solution:\n",
    "    sum = 0\n",
    "    def bstToGst(self, root: TreeNode):\n",
    "        l = list()\n",
    "        def getstruct(root, summing = 0):\n",
    "            if not root: return\n",
    "            else:\n",
    "                if summing == 0:\n",
    "                    l.append(root.val)\n",
    "                else:\n",
    "                    root.val = sum(l[l.index(root.val):])\n",
    "                getstruct(root.left, summing=summing)\n",
    "                getstruct(root.right, summing=summing)\n",
    "        getstruct(root,summing=0)\n",
    "        l = sorted(l)\n",
    "        getstruct(root, summing=1)\n",
    "        self.Traverse(root)\n",
    "\n",
    "\n",
    "    \n",
    "    def replicaTree(self, root):\n",
    "        if not root: return\n",
    "        else:\n",
    "            root.val = self.sum-root.val\n",
    "            self.replicaTree(root.left)\n",
    "            self.replicaTree(root.right)\n",
    "\n",
    "    def Traverse(self, root):\n",
    "        if not root: return \n",
    "        else:\n",
    "            print(root.val)\n",
    "            self.Traverse(root.left)\n",
    "            self.Traverse(root.right)\n",
    "\n",
    "\n",
    "\n",
    "    def getsum(self, root):\n",
    "        if not root: return\n",
    "        else:\n",
    "            self.sum+=root.val\n",
    "            self.getsum(root.left)\n",
    "            self.getsum(root.right)\n"
   ]
  },
  {
   "cell_type": "code",
   "execution_count": 27,
   "metadata": {},
   "outputs": [
    {
     "name": "stdout",
     "output_type": "stream",
     "text": [
      "30\n",
      "36\n",
      "36\n",
      "35\n",
      "33\n",
      "21\n",
      "26\n",
      "15\n",
      "8\n"
     ]
    }
   ],
   "source": [
    "obj = TreeNode(val = 4, left = TreeNode(val = 1, left = TreeNode(val = 0), right = TreeNode(val = 2, right = TreeNode(val = 3))), right = TreeNode(val = 6,left = TreeNode(val = 5), right = TreeNode(val = 7, right = TreeNode(8))))\n",
    "Solution().bstToGst(obj)"
   ]
  },
  {
   "cell_type": "code",
   "execution_count": 31,
   "metadata": {},
   "outputs": [],
   "source": [
    "class Solution:\n",
    "    def isAnagram(self, s: str, t: str) -> bool:\n",
    "        return sorted(list(s)) == sorted(list(t))"
   ]
  },
  {
   "cell_type": "code",
   "execution_count": 32,
   "metadata": {},
   "outputs": [
    {
     "name": "stdout",
     "output_type": "stream",
     "text": [
      "True\n"
     ]
    }
   ],
   "source": [
    "print(Solution().isAnagram(s = \"anagram\", t = \"nagaram\"))"
   ]
  },
  {
   "cell_type": "code",
   "execution_count": 35,
   "metadata": {},
   "outputs": [],
   "source": [
    "class Solution:\n",
    "    def rangeSumBST(self, root: TreeNode, L: int, R: int) -> int:\n",
    "        if not root:\n",
    "            return 0\n",
    "\t\t\t\n",
    "        ret = 0\n",
    "        \n",
    "        if L <= root.val and R >= root.val:\n",
    "            ret += root.val\n",
    "        if L < root.val:\n",
    "            ret += self.rangeSumBST(root.left, L, R)\n",
    "        if R > root.val:\n",
    "            ret += self.rangeSumBST(root.right, L, R)\n",
    "        return ret"
   ]
  },
  {
   "cell_type": "code",
   "execution_count": 44,
   "metadata": {},
   "outputs": [],
   "source": [
    "class Solution:\n",
    "    def searchBST(self, root: TreeNode, val: int):\n",
    "        if not root:\n",
    "            return None\n",
    "        if root.val == val:\n",
    "            return root\n",
    "        if root.val<val:\n",
    "            return self.searchBST(root.right, val)\n",
    "        if root.val>val:\n",
    "            return self.searchBST(root.left, val)\n",
    "        "
   ]
  },
  {
   "cell_type": "code",
   "execution_count": 37,
   "metadata": {},
   "outputs": [],
   "source": [
    "class Solution:\n",
    "    def checkTree(self, root: TreeNode) -> bool:\n",
    "        return root.val == root.left.val+root.right.val\n",
    "    \n"
   ]
  },
  {
   "cell_type": "code",
   "execution_count": 3,
   "metadata": {},
   "outputs": [],
   "source": [
    "obj10 = TreeNode(val=10,left = TreeNode(val = 5, left = TreeNode(val = 3), right=TreeNode(7)), right = TreeNode(val = 15, right = TreeNode(val =  18)))\n",
    "obj3 = TreeNode(val = 10, left = TreeNode(val = 6), right = TreeNode(val = 4))\n",
    "# Solution().searchBST(obj10, 5)"
   ]
  },
  {
   "cell_type": "code",
   "execution_count": 10,
   "metadata": {},
   "outputs": [
    {
     "name": "stdout",
     "output_type": "stream",
     "text": [
      "11\n"
     ]
    }
   ],
   "source": [
    "def sol(obj):\n",
    "    return obj or 0\n",
    "\n",
    "print(sol(11))"
   ]
  },
  {
   "cell_type": "code",
   "execution_count": 8,
   "metadata": {},
   "outputs": [],
   "source": [
    "import pandas as pd\n",
    "from sklearn.impute import SimpleImputer\n",
    "df = pd.read_excel(r\"D:\\python projects\\ML_Self_Prac\\my_cor.xlsx\", sheet_name='Sheet2')\n",
    "\n",
    "res =  df.fillna('--')\n",
    "\n",
    "# imputer = SimpleImputer(strategy='constant', fill_value=9999)\n",
    "# res = pd.DataFrame(imputer.fit_transform(df))\n",
    "res.to_excel(r\"D:\\python projects\\ML_Self_Prac\\new_res.xlsx\", sheet_name='Data Preserve')"
   ]
  },
  {
   "cell_type": "code",
   "execution_count": null,
   "metadata": {},
   "outputs": [],
   "source": [
    "class Solution:\n",
    "    def mergeTrees(self, root1: TreeNode, root2: TreeNode) -> TreeNode:\n",
    "        if not root1 and not root2: return None\n",
    "        if root2 and not root1:\n",
    "            return root2\n",
    "        if root1 and not root2:\n",
    "            return root1\n",
    "        if root1 and root2:\n",
    "            return TreeNode(root1.val + root2.val)\n",
    "        \n",
    "        \n",
    "\n",
    "        "
   ]
  },
  {
   "cell_type": "code",
   "execution_count": 12,
   "metadata": {},
   "outputs": [],
   "source": [
    "class Solution:\n",
    "    def sortTheStudents(self, score: list[list[int]], k: int) -> list[list[int]]:\n",
    "        allocation = dict()\n",
    "        for i in range(len(score)):\n",
    "            allocation[score[i][k]] = score[i]\n",
    "        return [allocation.get(key) for key in sorted(allocation, reverse=True)]"
   ]
  },
  {
   "cell_type": "code",
   "execution_count": 13,
   "metadata": {},
   "outputs": [
    {
     "name": "stdout",
     "output_type": "stream",
     "text": [
      "[[7, 5, 11, 2], [10, 6, 9, 1], [4, 8, 3, 15]]\n"
     ]
    }
   ],
   "source": [
    "print(Solution().sortTheStudents([[10,6,9,1],[7,5,11,2],[4,8,3,15]], 2))"
   ]
  },
  {
   "cell_type": "code",
   "execution_count": null,
   "metadata": {},
   "outputs": [],
   "source": [
    "class Solution:\n",
    "    def combinationSum2(self, candidates: list[int], target: int) -> list[list[int]]:\n",
    "        def traverse(index, candidates, sum, target, list_set):\n",
    "            if index ==  len(candidates):\n",
    "                return list_set\n",
    "            else:\n",
    "                if sum == candidates[index]:\n",
    "                    list_set.append(index)\n",
    "                "
   ]
  },
  {
   "cell_type": "code",
   "execution_count": 17,
   "metadata": {},
   "outputs": [
    {
     "name": "stdout",
     "output_type": "stream",
     "text": [
      "<class '__main__.Foo'>\n",
      "<class '__main__.Meta'>\n"
     ]
    }
   ],
   "source": [
    "class Meta(type):\n",
    "    def __new__(cls, name, bases, dct):\n",
    "        x = super().__new__(cls, name, bases, dct)\n",
    "        x.attr = 100\n",
    "        return x\n",
    "\n",
    "class Foo(metaclass=Meta):\n",
    "    pass\n",
    "\n",
    "obj = Foo()\n",
    "print(type(obj))\n",
    "print(type(Foo))"
   ]
  },
  {
   "cell_type": "code",
   "execution_count": 18,
   "metadata": {},
   "outputs": [],
   "source": [
    "def decorator(cls):\n",
    "   class NewClass():\n",
    "       attr = 100\n",
    "   return NewClass\n",
    "\n",
    "@decorator\n",
    "class X:\n",
    "   pass\n",
    "\n",
    "@decorator\n",
    "class Y:\n",
    "   pass\n",
    "\n",
    "@decorator\n",
    "class Z:\n",
    "   pass\n",
    "\n",
    "\n",
    "# obj = X()\n"
   ]
  },
  {
   "cell_type": "code",
   "execution_count": 13,
   "metadata": {},
   "outputs": [
    {
     "data": {
      "text/plain": [
       "__main__.decorator.<locals>.NewClass"
      ]
     },
     "execution_count": 13,
     "metadata": {},
     "output_type": "execute_result"
    }
   ],
   "source": [
    "type(obj)"
   ]
  },
  {
   "cell_type": "code",
   "execution_count": 34,
   "metadata": {},
   "outputs": [
    {
     "data": {
      "text/plain": [
       "10"
      ]
     },
     "execution_count": 34,
     "metadata": {},
     "output_type": "execute_result"
    }
   ],
   "source": [
    "def sherlockAndAnagrams(s: str):\n",
    "    count = 0\n",
    "    register = dict()\n",
    "    for index in range(len(s)):\n",
    "        for jindex in range(index+1, len(s)+1):\n",
    "            WORD = ''.join(sorted(s[index:jindex]))\n",
    "            if WORD in register:\n",
    "                count += register.get(WORD)\n",
    "                register[WORD] = register.get(WORD)+1\n",
    "            else:\n",
    "                register[WORD] = 1\n",
    "    return count\n",
    "\n",
    "sherlockAndAnagrams(\"kkkk\")"
   ]
  },
  {
   "cell_type": "code",
   "execution_count": 32,
   "metadata": {},
   "outputs": [
    {
     "name": "stdout",
     "output_type": "stream",
     "text": [
      "{'k': 4, 'kk': 3, 'kkk': 2, 'kkkk': 1}\n"
     ]
    },
    {
     "data": {
      "text/plain": [
       "10"
      ]
     },
     "execution_count": 32,
     "metadata": {},
     "output_type": "execute_result"
    }
   ],
   "source": [
    "def sherlockAndAnagrams(s: str):\n",
    "    dict={}\n",
    "\n",
    "    count=0\n",
    "\n",
    "    for i in range(len(s)):\n",
    "\n",
    "        for j in range(i+1,len(s)+1):\n",
    "\n",
    "            list1= list(s[i:j].strip())\n",
    "\n",
    "            list1.sort()\n",
    "\n",
    "            transf=''.join(list1)\n",
    "\n",
    "            if transf in dict: \n",
    "\n",
    "                count+=dict[transf]\n",
    "\n",
    "                dict[transf]=dict[transf]+1\n",
    "\n",
    "            else: dict[transf]=1       \n",
    "    print(dict)\n",
    "    return count  \n",
    "\n",
    "sherlockAndAnagrams(\"kkkk\")"
   ]
  },
  {
   "cell_type": "code",
   "execution_count": 37,
   "metadata": {},
   "outputs": [
    {
     "data": {
      "text/plain": [
       "[5, 4, 1]"
      ]
     },
     "execution_count": 37,
     "metadata": {},
     "output_type": "execute_result"
    }
   ],
   "source": [
    "l = [1,4,5]\n",
    "s = list(reversed(l))\n",
    "s"
   ]
  },
  {
   "cell_type": "code",
   "execution_count": 72,
   "metadata": {},
   "outputs": [],
   "source": [
    "def almostSorted(arr):\n",
    "\n",
    "    def sublist_rev(arr: list, index, j):\n",
    "        custom = arr.copy()\n",
    "        word = arr[index:j]\n",
    "        rev = list(reversed(word))\n",
    "        custom = arr.copy()\n",
    "        custom[index:j] = rev\n",
    "        return custom == sorted(arr)\n",
    "    \n",
    "    def swap(arr, index, j):\n",
    "        custom = arr.copy()\n",
    "        if custom[index] > custom[j]:\n",
    "            custom[index], custom[j] = custom[j], custom[index]\n",
    "        return custom == sorted(arr)\n",
    "\n",
    "    for index in range(len(arr)):\n",
    "        for j in range(index+1, len(arr)):\n",
    "            custom = arr.copy()\n",
    "            if swap(custom, index, j):\n",
    "                print(f\"yes \\nswap {index+1} {j+1}\")\n",
    "                return\n",
    "            if sublist_rev(arr, index, j):\n",
    "                print(f\"yes \\nreverse {index+1} {j}\")\n",
    "                return\n",
    "    print(\"no\")\n",
    "    return\n",
    "\n",
    "            "
   ]
  },
  {
   "cell_type": "code",
   "execution_count": 74,
   "metadata": {},
   "outputs": [
    {
     "name": "stdout",
     "output_type": "stream",
     "text": [
      "Yes \n",
      "reverse(2, 6)\n"
     ]
    }
   ],
   "source": [
    "\n",
    "print(almostSorted([1,5,4,3,2,6]))"
   ]
  },
  {
   "cell_type": "code",
   "execution_count": 10,
   "metadata": {},
   "outputs": [
    {
     "data": {
      "text/plain": [
       "2"
      ]
     },
     "execution_count": 10,
     "metadata": {},
     "output_type": "execute_result"
    }
   ],
   "source": [
    "l = [1,4,3]\n",
    "l.index(3)"
   ]
  },
  {
   "cell_type": "code",
   "execution_count": 11,
   "metadata": {},
   "outputs": [
    {
     "data": {
      "text/plain": [
       "3"
      ]
     },
     "execution_count": 11,
     "metadata": {},
     "output_type": "execute_result"
    }
   ],
   "source": [
    "def minimumLoss(price: list):\n",
    "    \n",
    "    sa = sorted(price)\n",
    "    min_df = 200000000\n",
    "    for i in range(len(sa)-1):\n",
    "        if (price.index(sa[i]) > price.index(sa[i+1])) and ((sa[i+1] - sa[i]) < min_df):\n",
    "            min_df = sa[i+1]-sa[i]\n",
    "\n",
    "    return min_df\n",
    "\n",
    "\n",
    "minimumLoss([20,15,8,2,12])"
   ]
  },
  {
   "cell_type": "code",
   "execution_count": 12,
   "metadata": {},
   "outputs": [],
   "source": [
    "def minimumLoss(price: list):\n",
    "    prices_dict = {pr:idx for (pr,idx) in zip(price,range(len(price)))}\n",
    "    price.sort()\n",
    "    min_df = 2000000\n",
    "    for i in range(len(price)-1):\n",
    "        if (prices_dict[price[i]] > prices_dict[price[i+1]]) and ((price[i+1]-price[i])<min_df):\n",
    "            min_df = price[i+1]-price[i]\n",
    " \n",
    "    return min_df"
   ]
  },
  {
   "cell_type": "code",
   "execution_count": null,
   "metadata": {},
   "outputs": [],
   "source": []
  }
 ],
 "metadata": {
  "kernelspec": {
   "display_name": "base",
   "language": "python",
   "name": "python3"
  },
  "language_info": {
   "codemirror_mode": {
    "name": "ipython",
    "version": 3
   },
   "file_extension": ".py",
   "mimetype": "text/x-python",
   "name": "python",
   "nbconvert_exporter": "python",
   "pygments_lexer": "ipython3",
   "version": "3.11.5"
  }
 },
 "nbformat": 4,
 "nbformat_minor": 2
}
